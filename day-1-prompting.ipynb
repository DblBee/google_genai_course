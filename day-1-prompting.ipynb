{
 "cells": [
  {
   "cell_type": "markdown",
   "id": "0d59e0e8",
   "metadata": {
    "id": "jkxRSYjzA1oX",
    "papermill": {
     "duration": 0.015036,
     "end_time": "2025-04-01T17:17:51.671429",
     "exception": false,
     "start_time": "2025-04-01T17:17:51.656393",
     "status": "completed"
    },
    "tags": []
   },
   "source": [
    "##### Copyright 2025 Google LLC."
   ]
  },
  {
   "cell_type": "code",
   "execution_count": 1,
   "id": "6b19bb41",
   "metadata": {
    "cellView": "form",
    "execution": {
     "iopub.execute_input": "2025-04-01T17:17:51.702890Z",
     "iopub.status.busy": "2025-04-01T17:17:51.702497Z",
     "iopub.status.idle": "2025-04-01T17:17:51.709075Z",
     "shell.execute_reply": "2025-04-01T17:17:51.707952Z"
    },
    "id": "5u5OZ2ShA3BA",
    "jupyter": {
     "source_hidden": true
    },
    "papermill": {
     "duration": 0.024619,
     "end_time": "2025-04-01T17:17:51.711530",
     "exception": false,
     "start_time": "2025-04-01T17:17:51.686911",
     "status": "completed"
    },
    "tags": []
   },
   "outputs": [],
   "source": [
    "# @title Licensed under the Apache License, Version 2.0 (the \"License\");\n",
    "# you may not use this file except in compliance with the License.\n",
    "# You may obtain a copy of the License at\n",
    "#\n",
    "# https://www.apache.org/licenses/LICENSE-2.0\n",
    "#\n",
    "# Unless required by applicable law or agreed to in writing, software\n",
    "# distributed under the License is distributed on an \"AS IS\" BASIS,\n",
    "# WITHOUT WARRANTIES OR CONDITIONS OF ANY KIND, either express or implied.\n",
    "# See the License for the specific language governing permissions and\n",
    "# limitations under the License."
   ]
  },
  {
   "cell_type": "markdown",
   "id": "789eda33",
   "metadata": {
    "id": "csNPnkuCobmG",
    "papermill": {
     "duration": 0.012851,
     "end_time": "2025-04-01T17:17:51.737760",
     "exception": false,
     "start_time": "2025-04-01T17:17:51.724909",
     "status": "completed"
    },
    "tags": []
   },
   "source": [
    "# Day 1 - Prompting\n",
    "\n",
    "Welcome to the Kaggle 5-day Generative AI course!\n",
    "\n",
    "This notebook will show you how to get started with the Gemini API and walk you through some of the example prompts and techniques that you can also read about in the Prompting whitepaper. You don't need to read the whitepaper to use this notebook, but the papers will give you some theoretical context and background to complement this interactive notebook.\n",
    "\n",
    "\n",
    "## Before you begin\n",
    "\n",
    "In this notebook, you'll start exploring prompting using the Python SDK and AI Studio. For some inspiration, you might enjoy exploring some apps that have been built using the Gemini family of models. Here are a few that we like, and we think you will too.\n",
    "\n",
    "* [TextFX](https://textfx.withgoogle.com/) is a suite of AI-powered tools for rappers, made in collaboration with Lupe Fiasco,\n",
    "* [SQL Talk](https://sql-talk-r5gdynozbq-uc.a.run.app/) shows how you can talk directly to a database using the Gemini API,\n",
    "* [NotebookLM](https://notebooklm.google/) uses Gemini models to build your own personal AI research assistant.\n",
    "\n",
    "\n",
    "## For help\n",
    "\n",
    "**Common issues are covered in the [FAQ and troubleshooting guide](https://www.kaggle.com/code/markishere/day-0-troubleshooting-and-faqs).**\n",
    "\n",
    "## New for Gemini 2.0!\n",
    "\n",
    "This course material was first launched in November 2024. The AI and LLM space is moving incredibly fast, so we have made some updates to use the latest models and capabilities.\n",
    "\n",
    "* These codelabs have been updated to use the Gemini 2.0 family of models.\n",
    "* The Python SDK has been updated from `google-generativeai` to the new, unified [`google-genai`](https://pypi.org/project/google-genai) SDK.\n",
    "  * This new SDK works with both the developer Gemini API as well as Google Cloud Vertex AI, and switching is [as simple as changing some fields](https://pypi.org/project/google-genai/#:~:text=.Client%28%29-,API%20Selection,-By%20default%2C%20the).\n",
    "* New model capabilities have been added to the relevant codelabs, such as \"thinking mode\" in this lab.\n",
    "* Day 1 includes a new [Evaluation codelab](https://www.kaggle.com/code/markishere/day-1-evaluation-and-structured-output)."
   ]
  },
  {
   "attachments": {
    "d8299597-f771-4195-ac94-1d6f658ef2bd.png": {
     "image/png": "[encoded data removed]"
    },
    "ed25e346-2e15-4ab0-bc22-503eb1845e66.png": {
     "image/png": "[encoded data removed]"
    }
   },
   "cell_type": "markdown",
   "id": "c0edf33a",
   "metadata": {
    "id": "f00ea7c99e44",
    "papermill": {
     "duration": 0.013299,
     "end_time": "2025-04-01T17:17:51.763810",
     "exception": false,
     "start_time": "2025-04-01T17:17:51.750511",
     "status": "completed"
    },
    "tags": []
   },
   "source": [
    "## Get started with Kaggle notebooks\n",
    "\n",
    "If this is your first time using a Kaggle notebook, welcome! You can read about how to use Kaggle notebooks [in the docs](https://www.kaggle.com/docs/notebooks).\n",
    "\n",
    "First, you will need to phone verify your account at kaggle.com/settings.\n",
    "\n",
    "![](https://storage.googleapis.com/kaggle-media/Images/5dgai_0.png)"
   ]
  },
  {
   "cell_type": "markdown",
   "id": "7235470b",
   "metadata": {
    "papermill": {
     "duration": 0.014041,
     "end_time": "2025-04-01T17:17:51.791506",
     "exception": false,
     "start_time": "2025-04-01T17:17:51.777465",
     "status": "completed"
    },
    "tags": []
   },
   "source": [
    "To run this notebook, as well as the others in this course, you will need to make a copy, or fork, the notebook. Look for the `Copy and Edit` button in the top-right, and **click it** to make an editable, private copy of the notebook. It should look like this one:\n",
    "\n",
    "![Copy and Edit button](https://storage.googleapis.com/kaggle-media/Images/5gdai_sc_1.png)\n",
    "\n",
    "Your copy will now have a ▶️ **Run** button next to each code cell that you can press to execute that cell. These notebooks are expected to be run in order from top-to-bottom, but you are encouraged to add new cells, run your own code and explore. If you get stuck, you can try the `Factory reset` option in the `Run` menu, or head back to the original notebook and make a fresh copy.\n",
    "\n",
    "![Run cell button](https://storage.googleapis.com/kaggle-media/Images/5gdai_sc_2.png)\n",
    "\n",
    "### Problems?\n",
    "\n",
    "If you have any problems, head over to the [Kaggle Discord](https://discord.com/invite/kaggle), find the [`#5dgai-q-and-a` channel](https://discord.com/channels/1101210829807956100/1303438695143178251) and ask for help."
   ]
  },
  {
   "cell_type": "markdown",
   "id": "588700f8",
   "metadata": {
    "id": "ExkOXcPxtTb5",
    "papermill": {
     "duration": 0.012614,
     "end_time": "2025-04-01T17:17:51.817580",
     "exception": false,
     "start_time": "2025-04-01T17:17:51.804966",
     "status": "completed"
    },
    "tags": []
   },
   "source": [
    "## Get started with the Gemini API\n",
    "\n",
    "All of the exercises in this notebook will use the [Gemini API](https://ai.google.dev/gemini-api/) by way of the [Python SDK](https://pypi.org/project/google-genai/). Each of these prompts can be accessed directly in [Google AI Studio](https://aistudio.google.com/) too, so if you would rather use a web interface and skip the code for this activity, look for the <img src=\"https://ai.google.dev/site-assets/images/marketing/home/icon-ais.png\" style=\"height: 24px\" height=24/> AI Studio link on each prompt."
   ]
  },
  {
   "cell_type": "markdown",
   "id": "5add9fb2",
   "metadata": {
    "papermill": {
     "duration": 0.015801,
     "end_time": "2025-04-01T17:17:51.847459",
     "exception": false,
     "start_time": "2025-04-01T17:17:51.831658",
     "status": "completed"
    },
    "tags": []
   },
   "source": [
    "Next, you will need to add your API key to your Kaggle Notebook as a Kaggle User Secret.\n",
    "\n",
    "![](https://storage.googleapis.com/kaggle-media/Images/5dgai_1.png)\n",
    "![](https://storage.googleapis.com/kaggle-media/Images/5dgai_2.png)\n",
    "![](https://storage.googleapis.com/kaggle-media/Images/5dgai_3.png)\n",
    "![](https://storage.googleapis.com/kaggle-media/Images/5dgai_4.png)"
   ]
  },
  {
   "cell_type": "markdown",
   "id": "7c3e794d",
   "metadata": {
    "id": "UAjUV3BsvFXQ",
    "papermill": {
     "duration": 0.017214,
     "end_time": "2025-04-01T17:17:51.881129",
     "exception": false,
     "start_time": "2025-04-01T17:17:51.863915",
     "status": "completed"
    },
    "tags": []
   },
   "source": [
    "### Install the SDK"
   ]
  },
  {
   "cell_type": "code",
   "execution_count": 2,
   "id": "87a70743",
   "metadata": {
    "execution": {
     "iopub.execute_input": "2025-04-01T17:17:51.912083Z",
     "iopub.status.busy": "2025-04-01T17:17:51.911657Z",
     "iopub.status.idle": "2025-04-01T17:17:53.213011Z",
     "shell.execute_reply": "2025-04-01T17:17:53.211487Z"
    },
    "papermill": {
     "duration": 1.320689,
     "end_time": "2025-04-01T17:17:53.216420",
     "exception": false,
     "start_time": "2025-04-01T17:17:51.895731",
     "status": "completed"
    },
    "tags": []
   },
   "outputs": [
    {
     "name": "stdout",
     "output_type": "stream",
     "text": [
      "{\r\n",
      "  \"ip\": \"35.185.225.64\",\r\n",
      "  \"hostname\": \"64.225.185.35.bc.googleusercontent.com\",\r\n",
      "  \"city\": \"The Dalles\",\r\n",
      "  \"region\": \"Oregon\",\r\n",
      "  \"country\": \"US\",\r\n",
      "  \"loc\": \"45.5946,-121.1787\",\r\n",
      "  \"org\": \"AS396982 Google LLC\",\r\n",
      "  \"postal\": \"97058\",\r\n",
      "  \"timezone\": \"America/Los_Angeles\",\r\n",
      "  \"readme\": \"https://ipinfo.io/missingauth\"\r\n",
      "}"
     ]
    }
   ],
   "source": [
    "!curl ipinfo.io"
   ]
  },
  {
   "cell_type": "code",
   "execution_count": 3,
   "id": "9dbe5168",
   "metadata": {
    "execution": {
     "iopub.execute_input": "2025-04-01T17:17:53.253706Z",
     "iopub.status.busy": "2025-04-01T17:17:53.253174Z",
     "iopub.status.idle": "2025-04-01T17:18:14.254284Z",
     "shell.execute_reply": "2025-04-01T17:18:14.252861Z"
    },
    "id": "NzwzJFU9LqkJ",
    "papermill": {
     "duration": 21.020551,
     "end_time": "2025-04-01T17:18:14.257175",
     "exception": false,
     "start_time": "2025-04-01T17:17:53.236624",
     "status": "completed"
    },
    "tags": []
   },
   "outputs": [
    {
     "name": "stdout",
     "output_type": "stream",
     "text": [
      "Collecting google-genai==1.7.0\r\n",
      "  Downloading google_genai-1.7.0-py3-none-any.whl.metadata (32 kB)\r\n",
      "Collecting anyio<5.0.0,>=4.8.0 (from google-genai==1.7.0)\r\n",
      "  Downloading anyio-4.9.0-py3-none-any.whl.metadata (4.7 kB)\r\n",
      "Requirement already satisfied: google-auth<3.0.0,>=2.14.1 in /opt/conda/lib/python3.10/site-packages (from google-genai==1.7.0) (2.30.0)\r\n",
      "Collecting httpx<1.0.0,>=0.28.1 (from google-genai==1.7.0)\r\n",
      "  Downloading httpx-0.28.1-py3-none-any.whl.metadata (7.1 kB)\r\n",
      "Requirement already satisfied: pydantic<3.0.0,>=2.0.0 in /opt/conda/lib/python3.10/site-packages (from google-genai==1.7.0) (2.9.2)\r\n",
      "Requirement already satisfied: requests<3.0.0,>=2.28.1 in /opt/conda/lib/python3.10/site-packages (from google-genai==1.7.0) (2.32.3)\r\n",
      "Collecting websockets<15.1.0,>=13.0.0 (from google-genai==1.7.0)\r\n",
      "  Downloading websockets-15.0.1-cp310-cp310-manylinux_2_5_x86_64.manylinux1_x86_64.manylinux_2_17_x86_64.manylinux2014_x86_64.whl.metadata (6.8 kB)\r\n",
      "Requirement already satisfied: typing-extensions<5.0.0,>=4.11.0 in /opt/conda/lib/python3.10/site-packages (from google-genai==1.7.0) (4.12.2)\r\n",
      "Requirement already satisfied: exceptiongroup>=1.0.2 in /opt/conda/lib/python3.10/site-packages (from anyio<5.0.0,>=4.8.0->google-genai==1.7.0) (1.2.0)\r\n",
      "Requirement already satisfied: idna>=2.8 in /opt/conda/lib/python3.10/site-packages (from anyio<5.0.0,>=4.8.0->google-genai==1.7.0) (3.7)\r\n",
      "Requirement already satisfied: sniffio>=1.1 in /opt/conda/lib/python3.10/site-packages (from anyio<5.0.0,>=4.8.0->google-genai==1.7.0) (1.3.1)\r\n",
      "Requirement already satisfied: cachetools<6.0,>=2.0.0 in /opt/conda/lib/python3.10/site-packages (from google-auth<3.0.0,>=2.14.1->google-genai==1.7.0) (4.2.4)\r\n",
      "Requirement already satisfied: pyasn1-modules>=0.2.1 in /opt/conda/lib/python3.10/site-packages (from google-auth<3.0.0,>=2.14.1->google-genai==1.7.0) (0.4.0)\r\n",
      "Requirement already satisfied: rsa<5,>=3.1.4 in /opt/conda/lib/python3.10/site-packages (from google-auth<3.0.0,>=2.14.1->google-genai==1.7.0) (4.9)\r\n",
      "Requirement already satisfied: certifi in /opt/conda/lib/python3.10/site-packages (from httpx<1.0.0,>=0.28.1->google-genai==1.7.0) (2024.8.30)\r\n",
      "Requirement already satisfied: httpcore==1.* in /opt/conda/lib/python3.10/site-packages (from httpx<1.0.0,>=0.28.1->google-genai==1.7.0) (1.0.5)\r\n",
      "Requirement already satisfied: h11<0.15,>=0.13 in /opt/conda/lib/python3.10/site-packages (from httpcore==1.*->httpx<1.0.0,>=0.28.1->google-genai==1.7.0) (0.14.0)\r\n",
      "Requirement already satisfied: annotated-types>=0.6.0 in /opt/conda/lib/python3.10/site-packages (from pydantic<3.0.0,>=2.0.0->google-genai==1.7.0) (0.7.0)\r\n",
      "Requirement already satisfied: pydantic-core==2.23.4 in /opt/conda/lib/python3.10/site-packages (from pydantic<3.0.0,>=2.0.0->google-genai==1.7.0) (2.23.4)\r\n",
      "Requirement already satisfied: charset-normalizer<4,>=2 in /opt/conda/lib/python3.10/site-packages (from requests<3.0.0,>=2.28.1->google-genai==1.7.0) (3.3.2)\r\n",
      "Requirement already satisfied: urllib3<3,>=1.21.1 in /opt/conda/lib/python3.10/site-packages (from requests<3.0.0,>=2.28.1->google-genai==1.7.0) (1.26.18)\r\n",
      "Requirement already satisfied: pyasn1<0.7.0,>=0.4.6 in /opt/conda/lib/python3.10/site-packages (from pyasn1-modules>=0.2.1->google-auth<3.0.0,>=2.14.1->google-genai==1.7.0) (0.6.0)\r\n",
      "Downloading google_genai-1.7.0-py3-none-any.whl (144 kB)\r\n",
      "\u001b[2K   \u001b[90m━━━━━━━━━━━━━━━━━━━━━━━━━━━━━━━━━━━━━━━━\u001b[0m \u001b[32m144.7/144.7 kB\u001b[0m \u001b[31m4.8 MB/s\u001b[0m eta \u001b[36m0:00:00\u001b[0m\r\n",
      "\u001b[?25hDownloading anyio-4.9.0-py3-none-any.whl (100 kB)\r\n",
      "\u001b[2K   \u001b[90m━━━━━━━━━━━━━━━━━━━━━━━━━━━━━━━━━━━━━━━━\u001b[0m \u001b[32m100.9/100.9 kB\u001b[0m \u001b[31m4.7 MB/s\u001b[0m eta \u001b[36m0:00:00\u001b[0m\r\n",
      "\u001b[?25hDownloading httpx-0.28.1-py3-none-any.whl (73 kB)\r\n",
      "\u001b[2K   \u001b[90m━━━━━━━━━━━━━━━━━━━━━━━━━━━━━━━━━━━━━━━━\u001b[0m \u001b[32m73.5/73.5 kB\u001b[0m \u001b[31m3.0 MB/s\u001b[0m eta \u001b[36m0:00:00\u001b[0m\r\n",
      "\u001b[?25hDownloading websockets-15.0.1-cp310-cp310-manylinux_2_5_x86_64.manylinux1_x86_64.manylinux_2_17_x86_64.manylinux2014_x86_64.whl (181 kB)\r\n",
      "\u001b[2K   \u001b[90m━━━━━━━━━━━━━━━━━━━━━━━━━━━━━━━━━━━━━━━━\u001b[0m \u001b[32m181.6/181.6 kB\u001b[0m \u001b[31m8.1 MB/s\u001b[0m eta \u001b[36m0:00:00\u001b[0m\r\n",
      "\u001b[?25hInstalling collected packages: websockets, anyio, httpx, google-genai\r\n",
      "  Attempting uninstall: websockets\r\n",
      "    Found existing installation: websockets 12.0\r\n",
      "    Uninstalling websockets-12.0:\r\n",
      "      Successfully uninstalled websockets-12.0\r\n",
      "  Attempting uninstall: anyio\r\n",
      "    Found existing installation: anyio 4.4.0\r\n",
      "    Uninstalling anyio-4.4.0:\r\n",
      "      Successfully uninstalled anyio-4.4.0\r\n",
      "  Attempting uninstall: httpx\r\n",
      "    Found existing installation: httpx 0.27.0\r\n",
      "    Uninstalling httpx-0.27.0:\r\n",
      "      Successfully uninstalled httpx-0.27.0\r\n",
      "Successfully installed anyio-4.9.0 google-genai-1.7.0 httpx-0.28.1 websockets-15.0.1\r\n"
     ]
    }
   ],
   "source": [
    "!pip uninstall -qqy jupyterlab  # Remove unused packages from Kaggle's base image that conflict\n",
    "!pip install google-genai==1.7.0"
   ]
  },
  {
   "cell_type": "markdown",
   "id": "afe0a072",
   "metadata": {
    "papermill": {
     "duration": 0.014461,
     "end_time": "2025-04-01T17:18:14.288601",
     "exception": false,
     "start_time": "2025-04-01T17:18:14.274140",
     "status": "completed"
    },
    "tags": []
   },
   "source": [
    "Import the SDK and some helpers for rendering the output."
   ]
  },
  {
   "cell_type": "code",
   "execution_count": 4,
   "id": "f98359d2",
   "metadata": {
    "execution": {
     "iopub.execute_input": "2025-04-01T17:18:14.318521Z",
     "iopub.status.busy": "2025-04-01T17:18:14.318110Z",
     "iopub.status.idle": "2025-04-01T17:18:15.819549Z",
     "shell.execute_reply": "2025-04-01T17:18:15.818524Z"
    },
    "id": "5DwxYIRavMST",
    "papermill": {
     "duration": 1.519652,
     "end_time": "2025-04-01T17:18:15.822086",
     "exception": false,
     "start_time": "2025-04-01T17:18:14.302434",
     "status": "completed"
    },
    "tags": []
   },
   "outputs": [],
   "source": [
    "from google import genai\n",
    "from google.genai import types\n",
    "\n",
    "from IPython.display import HTML, Markdown, display"
   ]
  },
  {
   "cell_type": "markdown",
   "id": "71b75ac5",
   "metadata": {
    "papermill": {
     "duration": 0.013937,
     "end_time": "2025-04-01T17:18:15.849885",
     "exception": false,
     "start_time": "2025-04-01T17:18:15.835948",
     "status": "completed"
    },
    "tags": []
   },
   "source": [
    "Set up a retry helper. This allows you to \"Run all\" without worrying about per-minute quota."
   ]
  },
  {
   "cell_type": "code",
   "execution_count": 5,
   "id": "8b1097f3",
   "metadata": {
    "execution": {
     "iopub.execute_input": "2025-04-01T17:18:15.880684Z",
     "iopub.status.busy": "2025-04-01T17:18:15.880125Z",
     "iopub.status.idle": "2025-04-01T17:18:16.134200Z",
     "shell.execute_reply": "2025-04-01T17:18:16.133049Z"
    },
    "papermill": {
     "duration": 0.272551,
     "end_time": "2025-04-01T17:18:16.136718",
     "exception": false,
     "start_time": "2025-04-01T17:18:15.864167",
     "status": "completed"
    },
    "tags": []
   },
   "outputs": [],
   "source": [
    "from google.api_core import retry\n",
    "\n",
    "\n",
    "is_retriable = lambda e: (isinstance(e, genai.errors.APIError) and e.code in {429, 503})\n",
    "\n",
    "genai.models.Models.generate_content = retry.Retry(\n",
    "    predicate=is_retriable)(genai.models.Models.generate_content)"
   ]
  },
  {
   "cell_type": "markdown",
   "id": "bfba7aaf",
   "metadata": {
    "id": "DNEt2BCOvOJ1",
    "papermill": {
     "duration": 0.013697,
     "end_time": "2025-04-01T17:18:16.164685",
     "exception": false,
     "start_time": "2025-04-01T17:18:16.150988",
     "status": "completed"
    },
    "tags": []
   },
   "source": [
    "### Set up your API key\n",
    "\n",
    "To run the following cell, your API key must be stored it in a [Kaggle secret](https://www.kaggle.com/discussions/product-feedback/114053) named `GOOGLE_API_KEY`.\n",
    "\n",
    "If you don't already have an API key, you can grab one from [AI Studio](https://aistudio.google.com/app/apikey). You can find [detailed instructions in the docs](https://ai.google.dev/gemini-api/docs/api-key).\n",
    "\n",
    "To make the key available through Kaggle secrets, choose `Secrets` from the `Add-ons` menu and follow the instructions to add your key or enable it for this notebook."
   ]
  },
  {
   "cell_type": "code",
   "execution_count": 6,
   "id": "4d976359",
   "metadata": {
    "execution": {
     "iopub.execute_input": "2025-04-01T17:18:16.195226Z",
     "iopub.status.busy": "2025-04-01T17:18:16.193895Z",
     "iopub.status.idle": "2025-04-01T17:18:16.353224Z",
     "shell.execute_reply": "2025-04-01T17:18:16.352140Z"
    },
    "id": "SHl0bkPCvayd",
    "papermill": {
     "duration": 0.177162,
     "end_time": "2025-04-01T17:18:16.355715",
     "exception": false,
     "start_time": "2025-04-01T17:18:16.178553",
     "status": "completed"
    },
    "tags": []
   },
   "outputs": [],
   "source": [
    "from kaggle_secrets import UserSecretsClient\n",
    "\n",
    "GOOGLE_API_KEY = UserSecretsClient().get_secret(\"GOOGLE_API_KEY\")"
   ]
  },
  {
   "attachments": {
    "d2be9aab-2527-48af-b6cf-1f06cdd7c3a7.png": {
     "image/png": "[encoded data removed]"
    }
   },
   "cell_type": "markdown",
   "id": "e7d0464e",
   "metadata": {
    "id": "4e720472fd86",
    "papermill": {
     "duration": 0.014426,
     "end_time": "2025-04-01T17:18:16.384055",
     "exception": false,
     "start_time": "2025-04-01T17:18:16.369629",
     "status": "completed"
    },
    "tags": []
   },
   "source": [
    "If you received an error response along the lines of `No user secrets exist for kernel id ...`, then you need to add your API key via `Add-ons`, `Secrets` **and** enable it.\n",
    "\n",
    "![Screenshot of the checkbox to enable GOOGLE_API_KEY secret](https://storage.googleapis.com/kaggle-media/Images/5gdai_sc_3.png)"
   ]
  },
  {
   "cell_type": "markdown",
   "id": "a081097c",
   "metadata": {
    "id": "H_YXCYIKvyZJ",
    "papermill": {
     "duration": 0.0136,
     "end_time": "2025-04-01T17:18:16.411550",
     "exception": false,
     "start_time": "2025-04-01T17:18:16.397950",
     "status": "completed"
    },
    "tags": []
   },
   "source": [
    "### Run your first prompt\n",
    "\n",
    "In this step, you will test that your API key is set up correctly by making a request.\n",
    "\n",
    "The Python SDK uses a [`Client` object](https://googleapis.github.io/python-genai/genai.html#genai.client.Client) to make requests to the API. The client lets you control which back-end to use (between the Gemini API and Vertex AI) and handles authentication (the API key).\n",
    "\n",
    "The `gemini-2.0-flash` model has been selected here.\n",
    "\n",
    "**Note**: If you see a `TransportError` on this step, you may need to **🔁 Factory reset** the notebook one time."
   ]
  },
  {
   "cell_type": "code",
   "execution_count": 7,
   "id": "90de19ac",
   "metadata": {
    "execution": {
     "iopub.execute_input": "2025-04-01T17:18:16.441875Z",
     "iopub.status.busy": "2025-04-01T17:18:16.440958Z",
     "iopub.status.idle": "2025-04-01T17:18:18.703772Z",
     "shell.execute_reply": "2025-04-01T17:18:18.702513Z"
    },
    "id": "BV1o0PmcvyJF",
    "papermill": {
     "duration": 2.281414,
     "end_time": "2025-04-01T17:18:18.706862",
     "exception": false,
     "start_time": "2025-04-01T17:18:16.425448",
     "status": "completed"
    },
    "tags": []
   },
   "outputs": [
    {
     "name": "stdout",
     "output_type": "stream",
     "text": [
      "Imagine you have a really, really smart robot friend! That robot friend can learn new things, just like you. That's because it has something called \"AI,\" which stands for Artificial Intelligence.\n",
      "\n",
      "Think of it like this:\n",
      "\n",
      "*   **Intelligence** means being able to learn and understand things. You're intelligent!\n",
      "*   **Artificial** means it's made by people, not something that grows naturally like a plant or an animal.\n",
      "\n",
      "So, AI is like giving a computer the ability to learn, think, and make decisions kind of like you do!\n",
      "\n",
      "For example:\n",
      "\n",
      "*   **AI can play games:** If you play a video game and the computer seems smart, that's probably AI helping it make good moves.\n",
      "*   **AI can understand your voice:** When you talk to your phone and it writes down what you say, that's AI listening and understanding you.\n",
      "*   **AI can help with recommendations:** When you watch a video online and it suggests other videos you might like, that's AI guessing what you'd enjoy based on what you've watched before.\n",
      "\n",
      "AI is getting better and better all the time, and it can do a lot of cool things! It's not magic, though. It's just really smart computers learning from lots and lots of information.\n",
      "\n"
     ]
    }
   ],
   "source": [
    "client = genai.Client(api_key=GOOGLE_API_KEY)\n",
    "\n",
    "response = client.models.generate_content(\n",
    "    model=\"gemini-2.0-flash\",\n",
    "    contents=\"Explain AI to me like I'm a kid.\")\n",
    "\n",
    "print(response.text)"
   ]
  },
  {
   "cell_type": "markdown",
   "id": "f221024b",
   "metadata": {
    "id": "f60ed9d8ae41",
    "papermill": {
     "duration": 0.015589,
     "end_time": "2025-04-01T17:18:18.739299",
     "exception": false,
     "start_time": "2025-04-01T17:18:18.723710",
     "status": "completed"
    },
    "tags": []
   },
   "source": [
    "The response often comes back in markdown format, which you can render directly in this notebook."
   ]
  },
  {
   "cell_type": "code",
   "execution_count": 8,
   "id": "aa3e207f",
   "metadata": {
    "execution": {
     "iopub.execute_input": "2025-04-01T17:18:18.776205Z",
     "iopub.status.busy": "2025-04-01T17:18:18.775607Z",
     "iopub.status.idle": "2025-04-01T17:18:18.785557Z",
     "shell.execute_reply": "2025-04-01T17:18:18.784064Z"
    },
    "id": "c933e5e460a5",
    "papermill": {
     "duration": 0.032619,
     "end_time": "2025-04-01T17:18:18.789227",
     "exception": false,
     "start_time": "2025-04-01T17:18:18.756608",
     "status": "completed"
    },
    "tags": []
   },
   "outputs": [
    {
     "data": {
      "text/markdown": [
       "Imagine you have a really, really smart robot friend! That robot friend can learn new things, just like you. That's because it has something called \"AI,\" which stands for Artificial Intelligence.\n",
       "\n",
       "Think of it like this:\n",
       "\n",
       "*   **Intelligence** means being able to learn and understand things. You're intelligent!\n",
       "*   **Artificial** means it's made by people, not something that grows naturally like a plant or an animal.\n",
       "\n",
       "So, AI is like giving a computer the ability to learn, think, and make decisions kind of like you do!\n",
       "\n",
       "For example:\n",
       "\n",
       "*   **AI can play games:** If you play a video game and the computer seems smart, that's probably AI helping it make good moves.\n",
       "*   **AI can understand your voice:** When you talk to your phone and it writes down what you say, that's AI listening and understanding you.\n",
       "*   **AI can help with recommendations:** When you watch a video online and it suggests other videos you might like, that's AI guessing what you'd enjoy based on what you've watched before.\n",
       "\n",
       "AI is getting better and better all the time, and it can do a lot of cool things! It's not magic, though. It's just really smart computers learning from lots and lots of information.\n"
      ],
      "text/plain": [
       "<IPython.core.display.Markdown object>"
      ]
     },
     "execution_count": 8,
     "metadata": {},
     "output_type": "execute_result"
    }
   ],
   "source": [
    "Markdown(response.text)"
   ]
  },
  {
   "cell_type": "markdown",
   "id": "af87acfa",
   "metadata": {
    "id": "byx0pT9ZMW2Q",
    "papermill": {
     "duration": 0.014778,
     "end_time": "2025-04-01T17:18:18.819642",
     "exception": false,
     "start_time": "2025-04-01T17:18:18.804864",
     "status": "completed"
    },
    "tags": []
   },
   "source": [
    "### Start a chat\n",
    "\n",
    "The previous example uses a single-turn, text-in/text-out structure, but you can also set up a multi-turn chat structure too."
   ]
  },
  {
   "cell_type": "code",
   "execution_count": 9,
   "id": "427694fc",
   "metadata": {
    "execution": {
     "iopub.execute_input": "2025-04-01T17:18:18.854187Z",
     "iopub.status.busy": "2025-04-01T17:18:18.853742Z",
     "iopub.status.idle": "2025-04-01T17:18:19.443283Z",
     "shell.execute_reply": "2025-04-01T17:18:19.441855Z"
    },
    "id": "lV_S5ZL5MidD",
    "papermill": {
     "duration": 0.608931,
     "end_time": "2025-04-01T17:18:19.445738",
     "exception": false,
     "start_time": "2025-04-01T17:18:18.836807",
     "status": "completed"
    },
    "tags": []
   },
   "outputs": [
    {
     "name": "stdout",
     "output_type": "stream",
     "text": [
      "It's nice to meet you, Zlork! I'm happy to help you with anything I can. What can I do for you today?\n",
      "\n"
     ]
    }
   ],
   "source": [
    "chat = client.chats.create(model='gemini-2.0-flash', history=[])\n",
    "response = chat.send_message('Hello! My name is Zlork.')\n",
    "print(response.text)"
   ]
  },
  {
   "cell_type": "code",
   "execution_count": 10,
   "id": "ef526d08",
   "metadata": {
    "execution": {
     "iopub.execute_input": "2025-04-01T17:18:19.482744Z",
     "iopub.status.busy": "2025-04-01T17:18:19.482368Z",
     "iopub.status.idle": "2025-04-01T17:18:20.694815Z",
     "shell.execute_reply": "2025-04-01T17:18:20.693602Z"
    },
    "id": "7b0372c3c64a",
    "papermill": {
     "duration": 1.236018,
     "end_time": "2025-04-01T17:18:20.697619",
     "exception": false,
     "start_time": "2025-04-01T17:18:19.461601",
     "status": "completed"
    },
    "tags": []
   },
   "outputs": [
    {
     "name": "stdout",
     "output_type": "stream",
     "text": [
      "Okay, here's a fascinating fact about dinosaurs:\n",
      "\n",
      "**Some dinosaurs had feathers, even if they couldn't fly!**\n",
      "\n",
      "For a long time, people thought dinosaurs were scaly like reptiles. But now, we have fossil evidence (particularly from China) showing that many dinosaurs, especially theropods (the group that includes Tyrannosaurus Rex), had feathers. These feathers weren't necessarily used for flight. They might have been for insulation, display (attracting mates or intimidating rivals), or even camouflage.\n",
      "\n",
      "The presence of feathers in dinosaurs completely changes our perception of these ancient creatures and shows the evolutionary link between dinosaurs and modern birds. Isn't that cool?\n",
      "\n"
     ]
    }
   ],
   "source": [
    "response = chat.send_message('Can you tell me something interesting about dinosaurs?')\n",
    "print(response.text)"
   ]
  },
  {
   "cell_type": "markdown",
   "id": "9c457935",
   "metadata": {
    "papermill": {
     "duration": 0.014182,
     "end_time": "2025-04-01T17:18:20.727170",
     "exception": false,
     "start_time": "2025-04-01T17:18:20.712988",
     "status": "completed"
    },
    "tags": []
   },
   "source": [
    "While you have the `chat` object alive, the conversation state\n",
    "persists. Confirm that by asking if it knows the user's name."
   ]
  },
  {
   "cell_type": "code",
   "execution_count": 11,
   "id": "48cdea62",
   "metadata": {
    "execution": {
     "iopub.execute_input": "2025-04-01T17:18:20.759257Z",
     "iopub.status.busy": "2025-04-01T17:18:20.758832Z",
     "iopub.status.idle": "2025-04-01T17:18:21.160511Z",
     "shell.execute_reply": "2025-04-01T17:18:21.159488Z"
    },
    "id": "d3f9591392a7",
    "papermill": {
     "duration": 0.420858,
     "end_time": "2025-04-01T17:18:21.162711",
     "exception": false,
     "start_time": "2025-04-01T17:18:20.741853",
     "status": "completed"
    },
    "tags": []
   },
   "outputs": [
    {
     "name": "stdout",
     "output_type": "stream",
     "text": [
      "Yes, I do! Your name is Zlork.\n",
      "\n"
     ]
    }
   ],
   "source": [
    "response = chat.send_message('Do you remember what my name is?')\n",
    "print(response.text)"
   ]
  },
  {
   "cell_type": "markdown",
   "id": "d848902a",
   "metadata": {
    "id": "2KAjpr1200sW",
    "papermill": {
     "duration": 0.014315,
     "end_time": "2025-04-01T17:18:21.192520",
     "exception": false,
     "start_time": "2025-04-01T17:18:21.178205",
     "status": "completed"
    },
    "tags": []
   },
   "source": [
    "### Choose a model\n",
    "\n",
    "The Gemini API provides access to a number of models from the Gemini model family. Read about the available models and their capabilities on the [model overview page](https://ai.google.dev/gemini-api/docs/models/gemini).\n",
    "\n",
    "In this step you'll use the API to list all of the available models."
   ]
  },
  {
   "cell_type": "code",
   "execution_count": 12,
   "id": "fe50623a",
   "metadata": {
    "execution": {
     "iopub.execute_input": "2025-04-01T17:18:21.225953Z",
     "iopub.status.busy": "2025-04-01T17:18:21.225581Z",
     "iopub.status.idle": "2025-04-01T17:18:21.290562Z",
     "shell.execute_reply": "2025-04-01T17:18:21.289062Z"
    },
    "id": "uUUZa2uq2jDm",
    "papermill": {
     "duration": 0.086395,
     "end_time": "2025-04-01T17:18:21.293299",
     "exception": false,
     "start_time": "2025-04-01T17:18:21.206904",
     "status": "completed"
    },
    "tags": []
   },
   "outputs": [
    {
     "name": "stdout",
     "output_type": "stream",
     "text": [
      "models/chat-bison-001\n",
      "models/text-bison-001\n",
      "models/embedding-gecko-001\n",
      "models/gemini-1.0-pro-vision-latest\n",
      "models/gemini-pro-vision\n",
      "models/gemini-1.5-pro-latest\n",
      "models/gemini-1.5-pro-001\n",
      "models/gemini-1.5-pro-002\n",
      "models/gemini-1.5-pro\n",
      "models/gemini-1.5-flash-latest\n",
      "models/gemini-1.5-flash-001\n",
      "models/gemini-1.5-flash-001-tuning\n",
      "models/gemini-1.5-flash\n",
      "models/gemini-1.5-flash-002\n",
      "models/gemini-1.5-flash-8b\n",
      "models/gemini-1.5-flash-8b-001\n",
      "models/gemini-1.5-flash-8b-latest\n",
      "models/gemini-1.5-flash-8b-exp-0827\n",
      "models/gemini-1.5-flash-8b-exp-0924\n",
      "models/gemini-2.5-pro-exp-03-25\n",
      "models/gemini-2.0-flash-exp\n",
      "models/gemini-2.0-flash\n",
      "models/gemini-2.0-flash-001\n",
      "models/gemini-2.0-flash-exp-image-generation\n",
      "models/gemini-2.0-flash-lite-001\n",
      "models/gemini-2.0-flash-lite\n",
      "models/gemini-2.0-flash-lite-preview-02-05\n",
      "models/gemini-2.0-flash-lite-preview\n",
      "models/gemini-2.0-pro-exp\n",
      "models/gemini-2.0-pro-exp-02-05\n",
      "models/gemini-exp-1206\n",
      "models/gemini-2.0-flash-thinking-exp-01-21\n",
      "models/gemini-2.0-flash-thinking-exp\n",
      "models/gemini-2.0-flash-thinking-exp-1219\n",
      "models/learnlm-1.5-pro-experimental\n",
      "models/gemma-3-4b-it\n",
      "models/gemma-3-12b-it\n",
      "models/gemma-3-27b-it\n",
      "models/embedding-001\n",
      "models/text-embedding-004\n",
      "models/gemini-embedding-exp-03-07\n",
      "models/gemini-embedding-exp\n",
      "models/aqa\n",
      "models/imagen-3.0-generate-002\n"
     ]
    }
   ],
   "source": [
    "for model in client.models.list():\n",
    "  print(model.name)"
   ]
  },
  {
   "cell_type": "markdown",
   "id": "805ff990",
   "metadata": {
    "id": "rN49kSI54R1v",
    "papermill": {
     "duration": 0.015129,
     "end_time": "2025-04-01T17:18:21.323606",
     "exception": false,
     "start_time": "2025-04-01T17:18:21.308477",
     "status": "completed"
    },
    "tags": []
   },
   "source": [
    "The [`models.list`](https://ai.google.dev/api/models#method:-models.list) response also returns additional information about the model's capabilities, like the token limits and supported parameters."
   ]
  },
  {
   "cell_type": "code",
   "execution_count": 13,
   "id": "1145e510",
   "metadata": {
    "execution": {
     "iopub.execute_input": "2025-04-01T17:18:21.354859Z",
     "iopub.status.busy": "2025-04-01T17:18:21.354416Z",
     "iopub.status.idle": "2025-04-01T17:18:21.514937Z",
     "shell.execute_reply": "2025-04-01T17:18:21.513012Z"
    },
    "id": "k7JJ1K6j4Rl8",
    "papermill": {
     "duration": 0.179068,
     "end_time": "2025-04-01T17:18:21.517318",
     "exception": false,
     "start_time": "2025-04-01T17:18:21.338250",
     "status": "completed"
    },
    "tags": []
   },
   "outputs": [
    {
     "name": "stdout",
     "output_type": "stream",
     "text": [
      "{'description': 'Gemini 2.0 Flash',\n",
      " 'display_name': 'Gemini 2.0 Flash',\n",
      " 'input_token_limit': 1048576,\n",
      " 'name': 'models/gemini-2.0-flash',\n",
      " 'output_token_limit': 8192,\n",
      " 'supported_actions': ['generateContent', 'countTokens'],\n",
      " 'tuned_model_info': {},\n",
      " 'version': '2.0'}\n"
     ]
    }
   ],
   "source": [
    "from pprint import pprint\n",
    "\n",
    "for model in client.models.list():\n",
    "  if model.name == 'models/gemini-2.0-flash':\n",
    "    pprint(model.to_json_dict())\n",
    "    break"
   ]
  },
  {
   "cell_type": "markdown",
   "id": "574d5711",
   "metadata": {
    "id": "5rU_UBlZdooM",
    "papermill": {
     "duration": 0.014141,
     "end_time": "2025-04-01T17:18:21.545995",
     "exception": false,
     "start_time": "2025-04-01T17:18:21.531854",
     "status": "completed"
    },
    "tags": []
   },
   "source": [
    "## Explore generation parameters\n",
    "\n"
   ]
  },
  {
   "cell_type": "markdown",
   "id": "78a6e416",
   "metadata": {
    "id": "G7NfEizeipbW",
    "papermill": {
     "duration": 0.014277,
     "end_time": "2025-04-01T17:18:21.575410",
     "exception": false,
     "start_time": "2025-04-01T17:18:21.561133",
     "status": "completed"
    },
    "tags": []
   },
   "source": [
    "### Output length\n",
    "\n",
    "When generating text with an LLM, the output length affects cost and performance. Generating more tokens increases computation, leading to higher energy consumption, latency, and cost.\n",
    "\n",
    "To stop the model from generating tokens past a limit, you can specify the `max_output_tokens` parameter when using the Gemini API. Specifying this parameter does not influence the generation of the output tokens, so the output will not become more stylistically or textually succinct, but it will stop generating tokens once the specified length is reached. Prompt engineering may be required to generate a more complete output for your given limit."
   ]
  },
  {
   "cell_type": "code",
   "execution_count": 14,
   "id": "224d1ce9",
   "metadata": {
    "execution": {
     "iopub.execute_input": "2025-04-01T17:18:21.606691Z",
     "iopub.status.busy": "2025-04-01T17:18:21.606330Z",
     "iopub.status.idle": "2025-04-01T17:18:23.046865Z",
     "shell.execute_reply": "2025-04-01T17:18:23.045589Z"
    },
    "id": "qVf23JsIi9ma",
    "papermill": {
     "duration": 1.458667,
     "end_time": "2025-04-01T17:18:23.049415",
     "exception": false,
     "start_time": "2025-04-01T17:18:21.590748",
     "status": "completed"
    },
    "tags": []
   },
   "outputs": [
    {
     "name": "stdout",
     "output_type": "stream",
     "text": [
      "## The Humble Olive: A Cornerstone of Modern Society\n",
      "\n",
      "The olive, a small, unassuming fruit, often conjures images of Mediterranean landscapes, sun-drenched hills, and ancient traditions. Yet, to confine the olive to such a picturesque past is to fundamentally misunderstand its crucial and pervasive importance in modern society. Beyond its delicious taste and culinary versatility, the olive and its derivatives play a pivotal role in health, nutrition, economy, agriculture, and even cultural identity, solidifying its position as a cornerstone of modern life.\n",
      "\n",
      "Perhaps the most widely recognized contribution of the olive lies in its exceptional health benefits. Olive oil, extracted from the fruit, is a cornerstone of the Mediterranean Diet, renowned for its positive impact on cardiovascular health. Rich in monounsaturated fats, particularly oleic acid, olive oil helps lower LDL (bad) cholesterol levels while simultaneously raising HDL (good) cholesterol. This translates into a reduced risk of heart disease, stroke, and other cardiovascular complications. Scientific studies have repeatedly affirmed these\n"
     ]
    }
   ],
   "source": [
    "from google.genai import types\n",
    "\n",
    "short_config = types.GenerateContentConfig(max_output_tokens=200)\n",
    "\n",
    "response = client.models.generate_content(\n",
    "    model='gemini-2.0-flash',\n",
    "    config=short_config,\n",
    "    contents='Write a 1000 word essay on the importance of olives in modern society.')\n",
    "\n",
    "print(response.text)"
   ]
  },
  {
   "cell_type": "code",
   "execution_count": 15,
   "id": "d106d042",
   "metadata": {
    "execution": {
     "iopub.execute_input": "2025-04-01T17:18:23.081860Z",
     "iopub.status.busy": "2025-04-01T17:18:23.081510Z",
     "iopub.status.idle": "2025-04-01T17:18:23.924785Z",
     "shell.execute_reply": "2025-04-01T17:18:23.923485Z"
    },
    "id": "W-3kR2F5kdMR",
    "papermill": {
     "duration": 0.862973,
     "end_time": "2025-04-01T17:18:23.927657",
     "exception": false,
     "start_time": "2025-04-01T17:18:23.064684",
     "status": "completed"
    },
    "tags": []
   },
   "outputs": [
    {
     "name": "stdout",
     "output_type": "stream",
     "text": [
      "From grove to table, small and green,\n",
      "An olive's journey, quite a scene.\n",
      "In oil so smooth, a culinary grace,\n",
      "On pizzas, salads, finding place.\n",
      "\n",
      "A tapenade, a briny bite,\n",
      "A symbol shared, of dark and light.\n",
      "For health and flavor, they combine,\n",
      "The humble olive, truly divine.\n",
      "\n"
     ]
    }
   ],
   "source": [
    "response = client.models.generate_content(\n",
    "    model='gemini-2.0-flash',\n",
    "    config=short_config,\n",
    "    contents='Write a short poem on the importance of olives in modern society.')\n",
    "\n",
    "print(response.text)"
   ]
  },
  {
   "cell_type": "markdown",
   "id": "653cb8e3",
   "metadata": {
    "id": "3ZhDSLB6lqqB",
    "papermill": {
     "duration": 0.014567,
     "end_time": "2025-04-01T17:18:23.958280",
     "exception": false,
     "start_time": "2025-04-01T17:18:23.943713",
     "status": "completed"
    },
    "tags": []
   },
   "source": [
    "Explore with your own prompts. Try a prompt with a restrictive output limit and then adjust the prompt to work within that limit."
   ]
  },
  {
   "cell_type": "markdown",
   "id": "125e1f20",
   "metadata": {
    "id": "alx-WaAvir_9",
    "papermill": {
     "duration": 0.014707,
     "end_time": "2025-04-01T17:18:23.989569",
     "exception": false,
     "start_time": "2025-04-01T17:18:23.974862",
     "status": "completed"
    },
    "tags": []
   },
   "source": [
    "### Temperature\n",
    "\n",
    "Temperature controls the degree of randomness in token selection. Higher temperatures result in a higher number of candidate tokens from which the next output token is selected, and can produce more diverse results, while lower temperatures have the opposite effect, such that a temperature of 0 results in greedy decoding, selecting the most probable token at each step.\n",
    "\n",
    "Temperature doesn't provide any guarantees of randomness, but it can be used to \"nudge\" the output somewhat."
   ]
  },
  {
   "cell_type": "code",
   "execution_count": 16,
   "id": "d59f0e74",
   "metadata": {
    "execution": {
     "iopub.execute_input": "2025-04-01T17:18:24.021270Z",
     "iopub.status.busy": "2025-04-01T17:18:24.020844Z",
     "iopub.status.idle": "2025-04-01T17:18:26.136422Z",
     "shell.execute_reply": "2025-04-01T17:18:26.135119Z"
    },
    "id": "SHraGMzqnZqt",
    "papermill": {
     "duration": 2.134576,
     "end_time": "2025-04-01T17:18:26.139082",
     "exception": false,
     "start_time": "2025-04-01T17:18:24.004506",
     "status": "completed"
    },
    "tags": []
   },
   "outputs": [
    {
     "name": "stdout",
     "output_type": "stream",
     "text": [
      "Azure\n",
      " -------------------------\n",
      "Orange\n",
      " -------------------------\n",
      "Cerulean.\n",
      " -------------------------\n",
      "Magenta\n",
      " -------------------------\n",
      "Azure\n",
      " -------------------------\n"
     ]
    }
   ],
   "source": [
    "high_temp_config = types.GenerateContentConfig(temperature=2.0)\n",
    "\n",
    "\n",
    "for _ in range(5):\n",
    "  response = client.models.generate_content(\n",
    "      model='gemini-2.0-flash',\n",
    "      config=high_temp_config,\n",
    "      contents='Pick a random colour... (respond in a single word)')\n",
    "\n",
    "  if response.text:\n",
    "    print(response.text, '-' * 25)"
   ]
  },
  {
   "cell_type": "markdown",
   "id": "03bc8f86",
   "metadata": {
    "id": "z3J4pCTuof7e",
    "papermill": {
     "duration": 0.015772,
     "end_time": "2025-04-01T17:18:26.169999",
     "exception": false,
     "start_time": "2025-04-01T17:18:26.154227",
     "status": "completed"
    },
    "tags": []
   },
   "source": [
    "Now try the same prompt with temperature set to zero. Note that the output is not completely deterministic, as other parameters affect token selection, but the results will tend to be more stable."
   ]
  },
  {
   "cell_type": "code",
   "execution_count": 17,
   "id": "a7e5d6d7",
   "metadata": {
    "execution": {
     "iopub.execute_input": "2025-04-01T17:18:26.203173Z",
     "iopub.status.busy": "2025-04-01T17:18:26.202775Z",
     "iopub.status.idle": "2025-04-01T17:18:28.149343Z",
     "shell.execute_reply": "2025-04-01T17:18:28.148049Z"
    },
    "id": "clymkWv-PfUZ",
    "papermill": {
     "duration": 1.96533,
     "end_time": "2025-04-01T17:18:28.151926",
     "exception": false,
     "start_time": "2025-04-01T17:18:26.186596",
     "status": "completed"
    },
    "tags": []
   },
   "outputs": [
    {
     "name": "stdout",
     "output_type": "stream",
     "text": [
      "Azure\n",
      " -------------------------\n",
      "Azure\n",
      " -------------------------\n",
      "Azure\n",
      " -------------------------\n",
      "Azure\n",
      " -------------------------\n",
      "Azure\n",
      " -------------------------\n"
     ]
    }
   ],
   "source": [
    "low_temp_config = types.GenerateContentConfig(temperature=0.0)\n",
    "\n",
    "for _ in range(5):\n",
    "  response = client.models.generate_content(\n",
    "      model='gemini-2.0-flash',\n",
    "      config=low_temp_config,\n",
    "      contents='Pick a random colour... (respond in a single word)')\n",
    "\n",
    "  if response.text:\n",
    "    print(response.text, '-' * 25)"
   ]
  },
  {
   "cell_type": "markdown",
   "id": "fc680a76",
   "metadata": {
    "id": "St5nt3vzitsZ",
    "papermill": {
     "duration": 0.016219,
     "end_time": "2025-04-01T17:18:28.183548",
     "exception": false,
     "start_time": "2025-04-01T17:18:28.167329",
     "status": "completed"
    },
    "tags": []
   },
   "source": [
    "### Top-P\n",
    "\n",
    "Like temperature, the top-P parameter is also used to control the diversity of the model's output.\n",
    "\n",
    "Top-P defines the probability threshold that, once cumulatively exceeded, tokens stop being selected as candidates. A top-P of 0 is typically equivalent to greedy decoding, and a top-P of 1 typically selects every token in the model's vocabulary.\n",
    "\n",
    "You may also see top-K referenced in LLM literature. Top-K is not configurable in the Gemini 2.0 series of models, but can be changed in older models. Top-K is a positive integer that defines the number of most probable tokens from which to select the output token. A top-K of 1 selects a single token, performing greedy decoding.\n",
    "\n",
    "\n",
    "Run this example a number of times, change the settings and observe the change in output."
   ]
  },
  {
   "cell_type": "code",
   "execution_count": 18,
   "id": "8c534fad",
   "metadata": {
    "execution": {
     "iopub.execute_input": "2025-04-01T17:18:28.217985Z",
     "iopub.status.busy": "2025-04-01T17:18:28.217569Z",
     "iopub.status.idle": "2025-04-01T17:18:33.910136Z",
     "shell.execute_reply": "2025-04-01T17:18:33.908809Z"
    },
    "id": "lPlzpEavUV8F",
    "papermill": {
     "duration": 5.71285,
     "end_time": "2025-04-01T17:18:33.912561",
     "exception": false,
     "start_time": "2025-04-01T17:18:28.199711",
     "status": "completed"
    },
    "tags": []
   },
   "outputs": [
    {
     "name": "stdout",
     "output_type": "stream",
     "text": [
      "Whiskers twitching, Clementine, a marmalade tabby of impeccable taste and even more impeccable laziness, surveyed her domain. Usually, this domain consisted of a sunbeam on Mrs. Higgins's floral armchair. Today, however, a rogue draft rustled the curtains, revealing a world beyond the familiar garden gate. It was a world shimmering with possibility, a world that smelled of damp earth and untold adventures. \n",
      "\n",
      "Clementine, despite her comfortable life, felt a primal twitch, a whisper of the wild buried deep in her feline heart. This day, she decided, would be different. She slipped through the gap in the gate, a ginger blur disappearing into the emerald unknown.\n",
      "\n",
      "Her adventure began with a perilous trek across a busy road. Cars, roaring metal beasts, zoomed past, but Clementine, with a confidence born of nine lives, navigated the chaos like a seasoned explorer. She discovered a patch of wild mint, its pungent aroma intoxicating, and rolled in it with abandon, coating her fur in its invigorating scent.\n",
      "\n",
      "Further on, she encountered a bustling squirrel, Scritches, burying acorns with the frantic energy of a tiny entrepreneur. Clementine, remembering her own uneaten kibble, decided hunting was far too much effort. Instead, she admired Scritches's dedication and offered a dignified nod.\n",
      "\n",
      "The journey continued through a whispering wood. Sunlight dappled through the leaves, painting the forest floor in shifting patterns. Clementine stalked through the undergrowth, her senses heightened. She saw a flash of blue and chased after it, tumbling head over heels in a pile of fallen leaves. The \"flash\" turned out to be a discarded piece of cellophane, but Clementine, undeterred, batted it around with playful ferocity.\n",
      "\n",
      "As dusk began to paint the sky in hues of lavender and rose, Clementine stumbled upon a babbling brook. Thirst parched her throat. She lapped at the cool water, the taste sweeter than any milk Mrs. Higgins ever offered.\n",
      "\n",
      "Suddenly, a high-pitched wail shattered the peaceful evening. A tiny, grey kitten, no bigger than Clementine's paw, was trapped on a small island in the middle of the brook, separated from its mother. The kitten cried, its voice filled with fear and desperation.\n",
      "\n",
      "Clementine, forgetting her newfound adventurous spirit, felt a surge of empathy. She’d always scoffed at Mrs. Higgins’s cloying sentimentality, but in that moment, she understood. She couldn’t leave the kitten to its fate.\n",
      "\n",
      "Mustering all her courage, Clementine plunged into the cold water. It was shallower than she expected, but the current was surprisingly strong. She fought her way to the island, ignoring the icy grip of the water, and nudged the trembling kitten towards the edge.\n",
      "\n",
      "One paw at a time, Clementine guided the terrified kitten across the brook. The mother cat, watching from the bank, let out a grateful meow. As soon as they were reunited, she rubbed against Clementine, her purr a rumbling symphony of gratitude.\n",
      "\n",
      "Exhausted but strangely satisfied, Clementine made her way back to the garden gate. The world beyond was exciting, she had discovered, but nothing beat the warmth of home and the comfort of the familiar. She stretched, yawned, and curled up in her usual sunbeam on Mrs. Higgins's floral armchair.\n",
      "\n",
      "The adventure was over, but the memory of it, the memory of the tiny kitten she had saved, warmed her from the inside out. Clementine, the marmalade tabby of impeccable taste and formerly impeccable laziness, was no longer just a house cat. She was a hero, a feline adventurer, and, perhaps most surprisingly, a cat with a heart. And tomorrow, she thought, purring contentedly, she might just explore that dusty attic. After all, adventure, it seemed, could be found anywhere, even within the confines of home.\n",
      "\n"
     ]
    }
   ],
   "source": [
    "model_config = types.GenerateContentConfig(\n",
    "    # These are the default values for gemini-2.0-flash.\n",
    "    temperature=1.0,\n",
    "    top_p=0.95,\n",
    ")\n",
    "\n",
    "story_prompt = \"You are a creative writer. Write a short story about a cat who goes on an adventure.\"\n",
    "response = client.models.generate_content(\n",
    "    model='gemini-2.0-flash',\n",
    "    config=model_config,\n",
    "    contents=story_prompt)\n",
    "\n",
    "print(response.text)"
   ]
  },
  {
   "cell_type": "markdown",
   "id": "8ee32fc6",
   "metadata": {
    "id": "rMrYs1koY6DX",
    "papermill": {
     "duration": 0.015094,
     "end_time": "2025-04-01T17:18:33.943543",
     "exception": false,
     "start_time": "2025-04-01T17:18:33.928449",
     "status": "completed"
    },
    "tags": []
   },
   "source": [
    "## Prompting\n",
    "\n",
    "This section contains some prompts from the chapter for you to try out directly in the API. Try changing the text here to see how each prompt performs with different instructions, more examples, or any other changes you can think of."
   ]
  },
  {
   "cell_type": "markdown",
   "id": "6fba45e0",
   "metadata": {
    "id": "hhj_tQidZJP7",
    "papermill": {
     "duration": 0.015122,
     "end_time": "2025-04-01T17:18:33.975221",
     "exception": false,
     "start_time": "2025-04-01T17:18:33.960099",
     "status": "completed"
    },
    "tags": []
   },
   "source": [
    "### Zero-shot\n",
    "\n",
    "Zero-shot prompts are prompts that describe the request for the model directly.\n",
    "\n",
    "<table align=left>\n",
    "  <td>\n",
    "    <a target=\"_blank\" href=\"https://aistudio.google.com/prompts/1gzKKgDHwkAvexG5Up0LMtl1-6jKMKe4g\"><img src=\"https://ai.google.dev/site-assets/images/marketing/home/icon-ais.png\" style=\"height: 24px\" height=24/> Open in AI Studio</a>\n",
    "  </td>\n",
    "</table>"
   ]
  },
  {
   "cell_type": "code",
   "execution_count": 19,
   "id": "b2dd0d61",
   "metadata": {
    "execution": {
     "iopub.execute_input": "2025-04-01T17:18:34.010867Z",
     "iopub.status.busy": "2025-04-01T17:18:34.010513Z",
     "iopub.status.idle": "2025-04-01T17:18:34.373605Z",
     "shell.execute_reply": "2025-04-01T17:18:34.372523Z"
    },
    "id": "1_t-cwnDZzbH",
    "papermill": {
     "duration": 0.384192,
     "end_time": "2025-04-01T17:18:34.375860",
     "exception": false,
     "start_time": "2025-04-01T17:18:33.991668",
     "status": "completed"
    },
    "tags": []
   },
   "outputs": [
    {
     "name": "stdout",
     "output_type": "stream",
     "text": [
      "POSITIVE\n",
      "\n"
     ]
    }
   ],
   "source": [
    "model_config = types.GenerateContentConfig(\n",
    "    temperature=0.1,\n",
    "    top_p=1,\n",
    "    max_output_tokens=5,\n",
    ")\n",
    "\n",
    "zero_shot_prompt = \"\"\"Classify movie reviews as POSITIVE, NEUTRAL or NEGATIVE.\n",
    "Review: \"Her\" is a disturbing study revealing the direction\n",
    "humanity is headed if AI is allowed to keep evolving,\n",
    "unchecked. I wish there were more movies like this masterpiece.\n",
    "Sentiment: \"\"\"\n",
    "\n",
    "response = client.models.generate_content(\n",
    "    model='gemini-2.0-flash',\n",
    "    config=model_config,\n",
    "    contents=zero_shot_prompt)\n",
    "\n",
    "print(response.text)"
   ]
  },
  {
   "cell_type": "markdown",
   "id": "45b97c3c",
   "metadata": {
    "id": "3b5568bdeb11",
    "papermill": {
     "duration": 0.015433,
     "end_time": "2025-04-01T17:18:34.406842",
     "exception": false,
     "start_time": "2025-04-01T17:18:34.391409",
     "status": "completed"
    },
    "tags": []
   },
   "source": [
    "#### Enum mode\n",
    "\n",
    "The models are trained to generate text, and while the Gemini 2.0 models are great at following instructions, other models can sometimes produce more text than you may wish for. In the preceding example, the model will output the label, but sometimes it can include a preceding \"Sentiment\" label, and without an output token limit, it may also add explanatory text afterwards. See [this prompt in AI Studio](https://aistudio.google.com/prompts/1gzKKgDHwkAvexG5Up0LMtl1-6jKMKe4g) for an example.\n",
    "\n",
    "The Gemini API has an [Enum mode](https://github.com/google-gemini/cookbook/blob/main/quickstarts/Enum.ipynb) feature that allows you to constrain the output to a fixed set of values."
   ]
  },
  {
   "cell_type": "code",
   "execution_count": 20,
   "id": "3dd84f4e",
   "metadata": {
    "execution": {
     "iopub.execute_input": "2025-04-01T17:18:34.439485Z",
     "iopub.status.busy": "2025-04-01T17:18:34.439116Z",
     "iopub.status.idle": "2025-04-01T17:18:34.905179Z",
     "shell.execute_reply": "2025-04-01T17:18:34.904114Z"
    },
    "id": "ad118a56c598",
    "papermill": {
     "duration": 0.485224,
     "end_time": "2025-04-01T17:18:34.907407",
     "exception": false,
     "start_time": "2025-04-01T17:18:34.422183",
     "status": "completed"
    },
    "tags": []
   },
   "outputs": [
    {
     "name": "stdout",
     "output_type": "stream",
     "text": [
      "positive\n"
     ]
    }
   ],
   "source": [
    "import enum\n",
    "\n",
    "class Sentiment(enum.Enum):\n",
    "    POSITIVE = \"positive\"\n",
    "    NEUTRAL = \"neutral\"\n",
    "    NEGATIVE = \"negative\"\n",
    "\n",
    "\n",
    "response = client.models.generate_content(\n",
    "    model='gemini-2.0-flash',\n",
    "    config=types.GenerateContentConfig(\n",
    "        response_mime_type=\"text/x.enum\",\n",
    "        response_schema=Sentiment\n",
    "    ),\n",
    "    contents=zero_shot_prompt)\n",
    "\n",
    "print(response.text)"
   ]
  },
  {
   "cell_type": "markdown",
   "id": "5f529f4a",
   "metadata": {
    "papermill": {
     "duration": 0.015032,
     "end_time": "2025-04-01T17:18:34.937950",
     "exception": false,
     "start_time": "2025-04-01T17:18:34.922918",
     "status": "completed"
    },
    "tags": []
   },
   "source": [
    "When using constrained output like an enum, the Python SDK will attempt to convert the model's text response into a Python object automatically. It's stored in the `response.parsed` field."
   ]
  },
  {
   "cell_type": "code",
   "execution_count": 21,
   "id": "a954cdc7",
   "metadata": {
    "execution": {
     "iopub.execute_input": "2025-04-01T17:18:34.970547Z",
     "iopub.status.busy": "2025-04-01T17:18:34.970158Z",
     "iopub.status.idle": "2025-04-01T17:18:34.976180Z",
     "shell.execute_reply": "2025-04-01T17:18:34.975079Z"
    },
    "papermill": {
     "duration": 0.025223,
     "end_time": "2025-04-01T17:18:34.978581",
     "exception": false,
     "start_time": "2025-04-01T17:18:34.953358",
     "status": "completed"
    },
    "tags": []
   },
   "outputs": [
    {
     "name": "stdout",
     "output_type": "stream",
     "text": [
      "Sentiment.POSITIVE\n",
      "<enum 'Sentiment'>\n"
     ]
    }
   ],
   "source": [
    "enum_response = response.parsed\n",
    "print(enum_response)\n",
    "print(type(enum_response))"
   ]
  },
  {
   "cell_type": "markdown",
   "id": "4335ee23",
   "metadata": {
    "id": "0udiSwNbv45W",
    "papermill": {
     "duration": 0.016253,
     "end_time": "2025-04-01T17:18:35.013402",
     "exception": false,
     "start_time": "2025-04-01T17:18:34.997149",
     "status": "completed"
    },
    "tags": []
   },
   "source": [
    "### One-shot and few-shot\n",
    "\n",
    "Providing an example of the expected response is known as a \"one-shot\" prompt. When you provide multiple examples, it is a \"few-shot\" prompt.\n",
    "\n",
    "<table align=left>\n",
    "  <td>\n",
    "    <a target=\"_blank\" href=\"https://aistudio.google.com/prompts/1jjWkjUSoMXmLvMJ7IzADr_GxHPJVV2bg\"><img src=\"https://ai.google.dev/site-assets/images/marketing/home/icon-ais.png\" style=\"height: 24px\" height=24/> Open in AI Studio</a>\n",
    "  </td>\n",
    "</table>\n"
   ]
  },
  {
   "cell_type": "code",
   "execution_count": 22,
   "id": "69ddff26",
   "metadata": {
    "execution": {
     "iopub.execute_input": "2025-04-01T17:18:35.048364Z",
     "iopub.status.busy": "2025-04-01T17:18:35.047551Z",
     "iopub.status.idle": "2025-04-01T17:18:35.512376Z",
     "shell.execute_reply": "2025-04-01T17:18:35.510988Z"
    },
    "id": "hd4mVUukwOKZ",
    "papermill": {
     "duration": 0.48453,
     "end_time": "2025-04-01T17:18:35.514632",
     "exception": false,
     "start_time": "2025-04-01T17:18:35.030102",
     "status": "completed"
    },
    "tags": []
   },
   "outputs": [
    {
     "name": "stdout",
     "output_type": "stream",
     "text": [
      "```json\n",
      "{\n",
      "\"size\": \"large\",\n",
      "\"type\": \"normal\",\n",
      "\"ingredients\": [\"cheese\", \"pineapple\"]\n",
      "}\n",
      "```\n",
      "\n"
     ]
    }
   ],
   "source": [
    "few_shot_prompt = \"\"\"Parse a customer's pizza order into valid JSON:\n",
    "\n",
    "EXAMPLE:\n",
    "I want a small pizza with cheese, tomato sauce, and pepperoni.\n",
    "JSON Response:\n",
    "```\n",
    "{\n",
    "\"size\": \"small\",\n",
    "\"type\": \"normal\",\n",
    "\"ingredients\": [\"cheese\", \"tomato sauce\", \"pepperoni\"]\n",
    "}\n",
    "```\n",
    "\n",
    "EXAMPLE:\n",
    "Can I get a large pizza with tomato sauce, basil and mozzarella\n",
    "JSON Response:\n",
    "```\n",
    "{\n",
    "\"size\": \"large\",\n",
    "\"type\": \"normal\",\n",
    "\"ingredients\": [\"tomato sauce\", \"basil\", \"mozzarella\"]\n",
    "}\n",
    "```\n",
    "\n",
    "ORDER:\n",
    "\"\"\"\n",
    "\n",
    "customer_order = \"Give me a large with cheese & pineapple\"\n",
    "\n",
    "response = client.models.generate_content(\n",
    "    model='gemini-2.0-flash',\n",
    "    config=types.GenerateContentConfig(\n",
    "        temperature=0.1,\n",
    "        top_p=1,\n",
    "        max_output_tokens=250,\n",
    "    ),\n",
    "    contents=[few_shot_prompt, customer_order])\n",
    "\n",
    "print(response.text)"
   ]
  },
  {
   "cell_type": "markdown",
   "id": "12fd06a8",
   "metadata": {
    "id": "021293096f08",
    "papermill": {
     "duration": 0.015484,
     "end_time": "2025-04-01T17:18:35.545970",
     "exception": false,
     "start_time": "2025-04-01T17:18:35.530486",
     "status": "completed"
    },
    "tags": []
   },
   "source": [
    "#### JSON mode\n",
    "\n",
    "To provide control over the schema, and to ensure that you only receive JSON (with no other text or markdown), you can use the Gemini API's [JSON mode](https://github.com/google-gemini/cookbook/blob/main/quickstarts/JSON_mode.ipynb). This forces the model to constrain decoding, such that token selection is guided by the supplied schema."
   ]
  },
  {
   "cell_type": "code",
   "execution_count": 23,
   "id": "95daaf96",
   "metadata": {
    "execution": {
     "iopub.execute_input": "2025-04-01T17:18:35.578884Z",
     "iopub.status.busy": "2025-04-01T17:18:35.578506Z",
     "iopub.status.idle": "2025-04-01T17:18:36.259192Z",
     "shell.execute_reply": "2025-04-01T17:18:36.257939Z"
    },
    "id": "50fbf0260912",
    "papermill": {
     "duration": 0.699793,
     "end_time": "2025-04-01T17:18:36.261442",
     "exception": false,
     "start_time": "2025-04-01T17:18:35.561649",
     "status": "completed"
    },
    "tags": []
   },
   "outputs": [
    {
     "name": "stdout",
     "output_type": "stream",
     "text": [
      "{\n",
      "  \"size\": \"large\",\n",
      "  \"ingredients\": [\"apple\", \"chocolate\"],\n",
      "  \"type\": \"dessert\"\n",
      "}\n"
     ]
    }
   ],
   "source": [
    "import typing_extensions as typing\n",
    "\n",
    "class PizzaOrder(typing.TypedDict):\n",
    "    size: str\n",
    "    ingredients: list[str]\n",
    "    type: str\n",
    "\n",
    "\n",
    "response = client.models.generate_content(\n",
    "    model='gemini-2.0-flash',\n",
    "    config=types.GenerateContentConfig(\n",
    "        temperature=0.1,\n",
    "        response_mime_type=\"application/json\",\n",
    "        response_schema=PizzaOrder,\n",
    "    ),\n",
    "    contents=\"Can I have a large dessert pizza with apple and chocolate\")\n",
    "\n",
    "print(response.text)"
   ]
  },
  {
   "cell_type": "markdown",
   "id": "4ff77d6a",
   "metadata": {
    "id": "4a93e338e57c",
    "papermill": {
     "duration": 0.016293,
     "end_time": "2025-04-01T17:18:36.294124",
     "exception": false,
     "start_time": "2025-04-01T17:18:36.277831",
     "status": "completed"
    },
    "tags": []
   },
   "source": [
    "### Chain of Thought (CoT)\n",
    "\n",
    "Direct prompting on LLMs can return answers quickly and (in terms of output token usage) efficiently, but they can be prone to hallucination. The answer may \"look\" correct (in terms of language and syntax) but is incorrect in terms of factuality and reasoning.\n",
    "\n",
    "Chain-of-Thought prompting is a technique where you instruct the model to output intermediate reasoning steps, and it typically gets better results, especially when combined with few-shot examples. It is worth noting that this technique doesn't completely eliminate hallucinations, and that it tends to cost more to run, due to the increased token count.\n",
    "\n",
    "Models like the Gemini family are trained to be \"chatty\" or \"thoughtful\" and will provide reasoning steps without prompting, so for this simple example you can ask the model to be more direct in the prompt to force a non-reasoning response. Try re-running this step if the model gets lucky and gets the answer correct on the first try."
   ]
  },
  {
   "cell_type": "code",
   "execution_count": 24,
   "id": "bf875d0e",
   "metadata": {
    "execution": {
     "iopub.execute_input": "2025-04-01T17:18:36.327063Z",
     "iopub.status.busy": "2025-04-01T17:18:36.326631Z",
     "iopub.status.idle": "2025-04-01T17:18:36.706544Z",
     "shell.execute_reply": "2025-04-01T17:18:36.705315Z"
    },
    "id": "5715555db1c1",
    "papermill": {
     "duration": 0.399543,
     "end_time": "2025-04-01T17:18:36.709359",
     "exception": false,
     "start_time": "2025-04-01T17:18:36.309816",
     "status": "completed"
    },
    "tags": []
   },
   "outputs": [
    {
     "name": "stdout",
     "output_type": "stream",
     "text": [
      "48\n",
      "\n"
     ]
    }
   ],
   "source": [
    "prompt = \"\"\"When I was 4 years old, my partner was 3 times my age. Now, I\n",
    "am 20 years old. How old is my partner? Return the answer directly.\"\"\"\n",
    "\n",
    "response = client.models.generate_content(\n",
    "    model='gemini-2.0-flash',\n",
    "    contents=prompt)\n",
    "\n",
    "print(response.text)"
   ]
  },
  {
   "cell_type": "markdown",
   "id": "ba6e2160",
   "metadata": {
    "id": "e12b19677bfd",
    "papermill": {
     "duration": 0.015789,
     "end_time": "2025-04-01T17:18:36.741916",
     "exception": false,
     "start_time": "2025-04-01T17:18:36.726127",
     "status": "completed"
    },
    "tags": []
   },
   "source": [
    "Now try the same approach, but indicate to the model that it should \"think step by step\"."
   ]
  },
  {
   "cell_type": "code",
   "execution_count": 25,
   "id": "72fa2351",
   "metadata": {
    "execution": {
     "iopub.execute_input": "2025-04-01T17:18:36.776215Z",
     "iopub.status.busy": "2025-04-01T17:18:36.775773Z",
     "iopub.status.idle": "2025-04-01T17:18:37.732320Z",
     "shell.execute_reply": "2025-04-01T17:18:37.731237Z"
    },
    "id": "ffd7536a481f",
    "papermill": {
     "duration": 0.976034,
     "end_time": "2025-04-01T17:18:37.734484",
     "exception": false,
     "start_time": "2025-04-01T17:18:36.758450",
     "status": "completed"
    },
    "tags": []
   },
   "outputs": [
    {
     "data": {
      "text/markdown": [
       "Okay, let's break this down:\n",
       "\n",
       "1. **When you were 4:** Your partner was 3 times your age, so they were 4 * 3 = 12 years old.\n",
       "\n",
       "2. **Age difference:** The age difference between you and your partner is 12 - 4 = 8 years.\n",
       "\n",
       "3. **Now that you are 20:** Since the age difference remains constant, your partner is still 8 years older than you.\n",
       "\n",
       "4. **Partner's current age:** Therefore, your partner is now 20 + 8 = 28 years old.\n",
       "\n",
       "So the answer is 28\n"
      ],
      "text/plain": [
       "<IPython.core.display.Markdown object>"
      ]
     },
     "execution_count": 25,
     "metadata": {},
     "output_type": "execute_result"
    }
   ],
   "source": [
    "prompt = \"\"\"When I was 4 years old, my partner was 3 times my age. Now,\n",
    "I am 20 years old. How old is my partner? Let's think step by step.\"\"\"\n",
    "\n",
    "response = client.models.generate_content(\n",
    "    model='gemini-2.0-flash',\n",
    "    contents=prompt)\n",
    "\n",
    "Markdown(response.text)"
   ]
  },
  {
   "cell_type": "markdown",
   "id": "ef14ce9a",
   "metadata": {
    "id": "oiLgBQJj0V53",
    "papermill": {
     "duration": 0.016082,
     "end_time": "2025-04-01T17:18:37.766948",
     "exception": false,
     "start_time": "2025-04-01T17:18:37.750866",
     "status": "completed"
    },
    "tags": []
   },
   "source": [
    "### ReAct: Reason and act\n",
    "\n",
    "In this example you will run a ReAct prompt directly in the Gemini API and perform the searching steps yourself. As this prompt follows a well-defined structure, there are frameworks available that wrap the prompt into easier-to-use APIs that make tool calls automatically, such as the LangChain example from the \"Prompting\" whitepaper.\n",
    "\n",
    "To try this out with the Wikipedia search engine, check out the [Searching Wikipedia with ReAct](https://github.com/google-gemini/cookbook/blob/main/examples/Search_Wikipedia_using_ReAct.ipynb) cookbook example.\n",
    "\n",
    "\n",
    "> Note: The prompt and in-context examples used here are from [https://github.com/ysymyth/ReAct](https://github.com/ysymyth/ReAct) which is published under an [MIT license](https://opensource.org/licenses/MIT), Copyright (c) 2023 Shunyu Yao.\n",
    "\n",
    "<table align=left>\n",
    "  <td>\n",
    "    <a target=\"_blank\" href=\"https://aistudio.google.com/prompts/18oo63Lwosd-bQ6Ay51uGogB3Wk3H8XMO\"><img src=\"https://ai.google.dev/site-assets/images/marketing/home/icon-ais.png\" style=\"height: 24px\" height=24/> Open in AI Studio</a>\n",
    "  </td>\n",
    "</table>\n"
   ]
  },
  {
   "cell_type": "code",
   "execution_count": 26,
   "id": "a95e0ae1",
   "metadata": {
    "execution": {
     "iopub.execute_input": "2025-04-01T17:18:37.801978Z",
     "iopub.status.busy": "2025-04-01T17:18:37.801098Z",
     "iopub.status.idle": "2025-04-01T17:18:37.808070Z",
     "shell.execute_reply": "2025-04-01T17:18:37.806934Z"
    },
    "id": "cBgyNJ5z0VSs",
    "papermill": {
     "duration": 0.026598,
     "end_time": "2025-04-01T17:18:37.810262",
     "exception": false,
     "start_time": "2025-04-01T17:18:37.783664",
     "status": "completed"
    },
    "tags": []
   },
   "outputs": [],
   "source": [
    "model_instructions = \"\"\"\n",
    "Solve a question answering task with interleaving Thought, Action, Observation steps. Thought can reason about the current situation,\n",
    "Observation is understanding relevant information from an Action's output and Action can be one of three types:\n",
    " (1) <search>entity</search>, which searches the exact entity on Wikipedia and returns the first paragraph if it exists. If not, it\n",
    "     will return some similar entities to search and you can try to search the information from those topics.\n",
    " (2) <lookup>keyword</lookup>, which returns the next sentence containing keyword in the current context. This only does exact matches,\n",
    "     so keep your searches short.\n",
    " (3) <finish>answer</finish>, which returns the answer and finishes the task.\n",
    "\"\"\"\n",
    "\n",
    "example1 = \"\"\"Question\n",
    "Musician and satirist Allie Goertz wrote a song about the \"The Simpsons\" character Milhouse, who Matt Groening named after who?\n",
    "\n",
    "Thought 1\n",
    "The question simplifies to \"The Simpsons\" character Milhouse is named after who. I only need to search Milhouse and find who it is named after.\n",
    "\n",
    "Action 1\n",
    "<search>Milhouse</search>\n",
    "\n",
    "Observation 1\n",
    "Milhouse Mussolini Van Houten is a recurring character in the Fox animated television series The Simpsons voiced by Pamela Hayden and created by Matt Groening.\n",
    "\n",
    "Thought 2\n",
    "The paragraph does not tell who Milhouse is named after, maybe I can look up \"named after\".\n",
    "\n",
    "Action 2\n",
    "<lookup>named after</lookup>\n",
    "\n",
    "Observation 2\n",
    "Milhouse was named after U.S. president Richard Nixon, whose middle name was Milhous.\n",
    "\n",
    "Thought 3\n",
    "Milhouse was named after U.S. president Richard Nixon, so the answer is Richard Nixon.\n",
    "\n",
    "Action 3\n",
    "<finish>Richard Nixon</finish>\n",
    "\"\"\"\n",
    "\n",
    "example2 = \"\"\"Question\n",
    "What is the elevation range for the area that the eastern sector of the Colorado orogeny extends into?\n",
    "\n",
    "Thought 1\n",
    "I need to search Colorado orogeny, find the area that the eastern sector of the Colorado orogeny extends into, then find the elevation range of the area.\n",
    "\n",
    "Action 1\n",
    "<search>Colorado orogeny</search>\n",
    "\n",
    "Observation 1\n",
    "The Colorado orogeny was an episode of mountain building (an orogeny) in Colorado and surrounding areas.\n",
    "\n",
    "Thought 2\n",
    "It does not mention the eastern sector. So I need to look up eastern sector.\n",
    "\n",
    "Action 2\n",
    "<lookup>eastern sector</lookup>\n",
    "\n",
    "Observation 2\n",
    "The eastern sector extends into the High Plains and is called the Central Plains orogeny.\n",
    "\n",
    "Thought 3\n",
    "The eastern sector of Colorado orogeny extends into the High Plains. So I need to search High Plains and find its elevation range.\n",
    "\n",
    "Action 3\n",
    "<search>High Plains</search>\n",
    "\n",
    "Observation 3\n",
    "High Plains refers to one of two distinct land regions\n",
    "\n",
    "Thought 4\n",
    "I need to instead search High Plains (United States).\n",
    "\n",
    "Action 4\n",
    "<search>High Plains (United States)</search>\n",
    "\n",
    "Observation 4\n",
    "The High Plains are a subregion of the Great Plains. From east to west, the High Plains rise in elevation from around 1,800 to 7,000 ft (550 to 2,130m).\n",
    "\n",
    "Thought 5\n",
    "High Plains rise in elevation from around 1,800 to 7,000 ft, so the answer is 1,800 to 7,000 ft.\n",
    "\n",
    "Action 5\n",
    "<finish>1,800 to 7,000 ft</finish>\n",
    "\"\"\"\n",
    "\n",
    "# Come up with more examples yourself, or take a look through https://github.com/ysymyth/ReAct/"
   ]
  },
  {
   "cell_type": "markdown",
   "id": "9b353cdd",
   "metadata": {
    "id": "C3wbfstjTgey",
    "papermill": {
     "duration": 0.015885,
     "end_time": "2025-04-01T17:18:37.841995",
     "exception": false,
     "start_time": "2025-04-01T17:18:37.826110",
     "status": "completed"
    },
    "tags": []
   },
   "source": [
    "To capture a single step at a time, while ignoring any hallucinated Observation steps, you will use `stop_sequences` to end the generation process. The steps are `Thought`, `Action`, `Observation`, in that order."
   ]
  },
  {
   "cell_type": "code",
   "execution_count": 27,
   "id": "91e4a68b",
   "metadata": {
    "execution": {
     "iopub.execute_input": "2025-04-01T17:18:37.875348Z",
     "iopub.status.busy": "2025-04-01T17:18:37.874926Z",
     "iopub.status.idle": "2025-04-01T17:18:38.352624Z",
     "shell.execute_reply": "2025-04-01T17:18:38.351567Z"
    },
    "id": "8mxrXRkRTdXm",
    "papermill": {
     "duration": 0.497576,
     "end_time": "2025-04-01T17:18:38.355233",
     "exception": false,
     "start_time": "2025-04-01T17:18:37.857657",
     "status": "completed"
    },
    "tags": []
   },
   "outputs": [
    {
     "name": "stdout",
     "output_type": "stream",
     "text": [
      "Thought 1\n",
      "I need to find the transformers NLP paper and find the authors' names and their ages.\n",
      "\n",
      "Action 1\n",
      "<search>transformers NLP paper</search>\n",
      "\n"
     ]
    }
   ],
   "source": [
    "question = \"\"\"Question\n",
    "Who was the youngest author listed on the transformers NLP paper?\n",
    "\"\"\"\n",
    "\n",
    "# You will perform the Action; so generate up to, but not including, the Observation.\n",
    "react_config = types.GenerateContentConfig(\n",
    "    stop_sequences=[\"\\nObservation\"],\n",
    "    system_instruction=model_instructions + example1 + example2,\n",
    ")\n",
    "\n",
    "# Create a chat that has the model instructions and examples pre-seeded.\n",
    "react_chat = client.chats.create(\n",
    "    model='gemini-2.0-flash',\n",
    "    config=react_config,\n",
    ")\n",
    "\n",
    "resp = react_chat.send_message(question)\n",
    "print(resp.text)"
   ]
  },
  {
   "cell_type": "markdown",
   "id": "f2892361",
   "metadata": {
    "id": "aW2PIdLbVv3l",
    "papermill": {
     "duration": 0.015994,
     "end_time": "2025-04-01T17:18:38.387865",
     "exception": false,
     "start_time": "2025-04-01T17:18:38.371871",
     "status": "completed"
    },
    "tags": []
   },
   "source": [
    "Now you can perform this research yourself and supply it back to the model."
   ]
  },
  {
   "cell_type": "code",
   "execution_count": 28,
   "id": "d7ea9c88",
   "metadata": {
    "execution": {
     "iopub.execute_input": "2025-04-01T17:18:38.423587Z",
     "iopub.status.busy": "2025-04-01T17:18:38.423241Z",
     "iopub.status.idle": "2025-04-01T17:18:39.047909Z",
     "shell.execute_reply": "2025-04-01T17:18:39.046445Z"
    },
    "id": "mLMc0DZaV9g2",
    "papermill": {
     "duration": 0.646487,
     "end_time": "2025-04-01T17:18:39.050795",
     "exception": false,
     "start_time": "2025-04-01T17:18:38.404308",
     "status": "completed"
    },
    "tags": []
   },
   "outputs": [
    {
     "name": "stdout",
     "output_type": "stream",
     "text": [
      "Thought 2\n",
      "I have the author names. Now I need to find their ages when the paper was published in 2017.\n",
      "\n",
      "Action 2\n",
      "<search>Ashish Vaswani age</search>\n",
      "\n"
     ]
    }
   ],
   "source": [
    "observation = \"\"\"Observation 1\n",
    "[1706.03762] Attention Is All You Need\n",
    "Ashish Vaswani, Noam Shazeer, Niki Parmar, Jakob Uszkoreit, Llion Jones, Aidan N. Gomez, Lukasz Kaiser, Illia Polosukhin\n",
    "We propose a new simple network architecture, the Transformer, based solely on attention mechanisms, dispensing with recurrence and convolutions entirely.\n",
    "\"\"\"\n",
    "resp = react_chat.send_message(observation)\n",
    "print(resp.text)"
   ]
  },
  {
   "cell_type": "markdown",
   "id": "28043816",
   "metadata": {
    "id": "bo0tzf4nX6dA",
    "papermill": {
     "duration": 0.020127,
     "end_time": "2025-04-01T17:18:39.087766",
     "exception": false,
     "start_time": "2025-04-01T17:18:39.067639",
     "status": "completed"
    },
    "tags": []
   },
   "source": [
    "This process repeats until the `<finish>` action is reached. You can continue running this yourself if you like, or try the [Wikipedia example](https://github.com/google-gemini/cookbook/blob/main/examples/Search_Wikipedia_using_ReAct.ipynb) to see a fully automated ReAct system at work."
   ]
  },
  {
   "cell_type": "markdown",
   "id": "a08e1a8f",
   "metadata": {
    "papermill": {
     "duration": 0.016596,
     "end_time": "2025-04-01T17:18:39.121818",
     "exception": false,
     "start_time": "2025-04-01T17:18:39.105222",
     "status": "completed"
    },
    "tags": []
   },
   "source": [
    "## Thinking mode\n",
    "\n",
    "The experiemental Gemini Flash 2.0 \"Thinking\" model has been trained to generate the \"thinking process\" the model goes through as part of its response. As a result, the Flash Thinking model is capable of stronger reasoning capabilities in its responses.\n",
    "\n",
    "Using a \"thinking mode\" model can provide you with high-quality responses without needing specialised prompting like the previous approaches. One reason this technique is effective is that you induce the model to generate relevant information (\"brainstorming\", or \"thoughts\") that is then used as part of the context in which the final response is generated.\n",
    "\n",
    "Note that when you use the API, you get the final response from the model, but the thoughts are not captured. To see the intermediate thoughts, try out [the thinking mode model in AI Studio](https://aistudio.google.com/prompts/new_chat?model=gemini-2.0-flash-thinking-exp-01-21).\n",
    "\n",
    "<table align=left>\n",
    "  <td>\n",
    "    <a target=\"_blank\" href=\"https://aistudio.google.com/prompts/1Z991SV7lZZZqioOiqIUPv9a9ix-ws4zk\"><img src=\"https://ai.google.dev/site-assets/images/marketing/home/icon-ais.png\" style=\"height: 24px\" height=24/> Open in AI Studio</a>\n",
    "  </td>\n",
    "</table>"
   ]
  },
  {
   "cell_type": "code",
   "execution_count": 29,
   "id": "d346d984",
   "metadata": {
    "execution": {
     "iopub.execute_input": "2025-04-01T17:18:39.157791Z",
     "iopub.status.busy": "2025-04-01T17:18:39.157393Z",
     "iopub.status.idle": "2025-04-01T17:18:45.415851Z",
     "shell.execute_reply": "2025-04-01T17:18:45.414513Z"
    },
    "papermill": {
     "duration": 6.279104,
     "end_time": "2025-04-01T17:18:45.418204",
     "exception": false,
     "start_time": "2025-04-01T17:18:39.139100",
     "status": "completed"
    },
    "tags": []
   },
   "outputs": [
    {
     "data": {
      "text/markdown": [
       "The \"transformers NLP paper\" you're likely referring to is the groundbreaking paper titled **\"Attention is All You Need\"**.\n",
       "\n",
       "The authors listed on this paper are:\n",
       "\n",
       "* **Ashish Vaswani**\n",
       "* **Noam Shazeer**\n",
       "* **Niki Parmar**\n",
       "* **Jakob Uszkoreit**\n",
       "* **Llion Jones**\n",
       "* **Aidan N. Gomez**\n",
       "* **Łukasz Kaiser**\n",
       "* **Illia Polosukhin**\n",
       "\n",
       "To determine the youngest author, we need to look up their birthdates or ages at the time of publication (2017). Based on publicly available information:\n",
       "\n",
       "* **Aidan N. Gomez** is widely known to be the youngest author on the paper. He was a PhD student at the University of Oxford and affiliated with Google Brain at the time. He was born in **1995**.\n",
       "\n",
       "While precise birthdates for all authors might not be readily and publicly available, **Aidan N. Gomez is generally recognized as the youngest author** of the \"Attention is All You Need\" paper.\n",
       "\n",
       "Therefore, the answer is **Aidan N. Gomez**."
      ],
      "text/plain": [
       "<IPython.core.display.Markdown object>"
      ]
     },
     "execution_count": 29,
     "metadata": {},
     "output_type": "execute_result"
    }
   ],
   "source": [
    "import io\n",
    "from IPython.display import Markdown, clear_output\n",
    "\n",
    "\n",
    "response = client.models.generate_content_stream(\n",
    "    model='gemini-2.0-flash-thinking-exp',\n",
    "    contents='Who was the youngest author listed on the transformers NLP paper?',\n",
    ")\n",
    "\n",
    "buf = io.StringIO()\n",
    "for chunk in response:\n",
    "    buf.write(chunk.text)\n",
    "    # Display the response as it is streamed\n",
    "    print(chunk.text, end='')\n",
    "\n",
    "# And then render the finished response as formatted markdown.\n",
    "clear_output()\n",
    "Markdown(buf.getvalue())"
   ]
  },
  {
   "cell_type": "markdown",
   "id": "dc69bf38",
   "metadata": {
    "id": "jPiZ_eIIaVPt",
    "papermill": {
     "duration": 0.016172,
     "end_time": "2025-04-01T17:18:45.451488",
     "exception": false,
     "start_time": "2025-04-01T17:18:45.435316",
     "status": "completed"
    },
    "tags": []
   },
   "source": [
    "## Code prompting"
   ]
  },
  {
   "cell_type": "markdown",
   "id": "0cafc379",
   "metadata": {
    "id": "ZinKamwXeR6C",
    "papermill": {
     "duration": 0.015976,
     "end_time": "2025-04-01T17:18:45.484197",
     "exception": false,
     "start_time": "2025-04-01T17:18:45.468221",
     "status": "completed"
    },
    "tags": []
   },
   "source": [
    "### Generating code\n",
    "\n",
    "The Gemini family of models can be used to generate code, configuration and scripts. Generating code can be helpful when learning to code, learning a new language or for rapidly generating a first draft.\n",
    "\n",
    "It's important to be aware that since LLMs can make mistakes, and can repeat training data, it's essential to read and test your code first, and comply with any relevant licenses.\n",
    "\n",
    "<table align=left>\n",
    "  <td>\n",
    "    <a target=\"_blank\" href=\"https://aistudio.google.com/prompts/1YX71JGtzDjXQkgdes8bP6i3oH5lCRKxv\"><img src=\"https://ai.google.dev/site-assets/images/marketing/home/icon-ais.png\" style=\"height: 24px\" height=24/> Open in AI Studio</a>\n",
    "  </td>\n",
    "</table>"
   ]
  },
  {
   "cell_type": "code",
   "execution_count": 30,
   "id": "19b2a1e2",
   "metadata": {
    "execution": {
     "iopub.execute_input": "2025-04-01T17:18:45.519438Z",
     "iopub.status.busy": "2025-04-01T17:18:45.518651Z",
     "iopub.status.idle": "2025-04-01T17:18:45.998935Z",
     "shell.execute_reply": "2025-04-01T17:18:45.997723Z"
    },
    "id": "fOQP9pqmeUO1",
    "papermill": {
     "duration": 0.500756,
     "end_time": "2025-04-01T17:18:46.001399",
     "exception": false,
     "start_time": "2025-04-01T17:18:45.500643",
     "status": "completed"
    },
    "tags": []
   },
   "outputs": [
    {
     "data": {
      "text/markdown": [
       "```python\n",
       "def factorial(n):\n",
       "    if n == 0:\n",
       "        return 1\n",
       "    else:\n",
       "        return n * factorial(n-1)\n",
       "```"
      ],
      "text/plain": [
       "<IPython.core.display.Markdown object>"
      ]
     },
     "execution_count": 30,
     "metadata": {},
     "output_type": "execute_result"
    }
   ],
   "source": [
    "# The Gemini models love to talk, so it helps to specify they stick to the code if that\n",
    "# is all that you want.\n",
    "code_prompt = \"\"\"\n",
    "Write a Python function to calculate the factorial of a number. No explanation, provide only the code.\n",
    "\"\"\"\n",
    "\n",
    "response = client.models.generate_content(\n",
    "    model='gemini-2.0-flash',\n",
    "    config=types.GenerateContentConfig(\n",
    "        temperature=1,\n",
    "        top_p=1,\n",
    "        max_output_tokens=1024,\n",
    "    ),\n",
    "    contents=code_prompt)\n",
    "\n",
    "Markdown(response.text)"
   ]
  },
  {
   "cell_type": "markdown",
   "id": "33ab09bc",
   "metadata": {
    "id": "wlBMWSFhgVRQ",
    "papermill": {
     "duration": 0.018522,
     "end_time": "2025-04-01T17:18:46.036273",
     "exception": false,
     "start_time": "2025-04-01T17:18:46.017751",
     "status": "completed"
    },
    "tags": []
   },
   "source": [
    "### Code execution\n",
    "\n",
    "The Gemini API can automatically run generated code too, and will return the output.\n",
    "\n",
    "<table align=left>\n",
    "  <td>\n",
    "    <a target=\"_blank\" href=\"https://aistudio.google.com/prompts/11veFr_VYEwBWcLkhNLr-maCG0G8sS_7Z\"><img src=\"https://ai.google.dev/site-assets/images/marketing/home/icon-ais.png\" style=\"height: 24px\" height=24/> Open in AI Studio</a>\n",
    "  </td>\n",
    "</table>"
   ]
  },
  {
   "cell_type": "code",
   "execution_count": 31,
   "id": "17e6d9c6",
   "metadata": {
    "execution": {
     "iopub.execute_input": "2025-04-01T17:18:46.070269Z",
     "iopub.status.busy": "2025-04-01T17:18:46.069859Z",
     "iopub.status.idle": "2025-04-01T17:18:48.022748Z",
     "shell.execute_reply": "2025-04-01T17:18:48.021656Z"
    },
    "id": "jT3OfWYfhjRL",
    "papermill": {
     "duration": 1.97291,
     "end_time": "2025-04-01T17:18:48.025267",
     "exception": false,
     "start_time": "2025-04-01T17:18:46.052357",
     "status": "completed"
    },
    "tags": []
   },
   "outputs": [
    {
     "name": "stdout",
     "output_type": "stream",
     "text": [
      "{'text': \"Okay, I can do that. First, I'll generate the first 14 odd prime \"\n",
      "         'numbers. Remember that a prime number is a number greater than 1 '\n",
      "         'that has only two divisors: 1 and itself. Also, the only even prime '\n",
      "         'number is 2. Therefore, I am looking for the first 14 prime numbers '\n",
      "         'after 2.\\n'\n",
      "         '\\n'\n",
      "         'Here are the first 14 odd prime numbers:\\n'\n",
      "         '\\n'\n",
      "         '3, 5, 7, 11, 13, 17, 19, 23, 29, 31, 37, 41, 43, 47\\n'\n",
      "         '\\n'\n",
      "         'Now, I will calculate their sum using python:\\n'\n",
      "         '\\n'}\n",
      "-----\n",
      "{'executable_code': {'code': 'numbers = [3, 5, 7, 11, 13, 17, 19, 23, 29, 31, '\n",
      "                             '37, 41, 43, 47]\\n'\n",
      "                             'sum_of_numbers = sum(numbers)\\n'\n",
      "                             \"print(f'{sum_of_numbers=}')\\n\",\n",
      "                     'language': 'PYTHON'}}\n",
      "-----\n",
      "{'code_execution_result': {'outcome': 'OUTCOME_OK',\n",
      "                           'output': 'sum_of_numbers=326\\n'}}\n",
      "-----\n",
      "{'text': 'The sum of the first 14 odd prime numbers is 326.\\n'}\n",
      "-----\n"
     ]
    }
   ],
   "source": [
    "from pprint import pprint\n",
    "\n",
    "config = types.GenerateContentConfig(\n",
    "    tools=[types.Tool(code_execution=types.ToolCodeExecution())],\n",
    ")\n",
    "\n",
    "code_exec_prompt = \"\"\"\n",
    "Generate the first 14 odd prime numbers, then calculate their sum.\n",
    "\"\"\"\n",
    "\n",
    "response = client.models.generate_content(\n",
    "    model='gemini-2.0-flash',\n",
    "    config=config,\n",
    "    contents=code_exec_prompt)\n",
    "\n",
    "for part in response.candidates[0].content.parts:\n",
    "  pprint(part.to_json_dict())\n",
    "  print(\"-----\")"
   ]
  },
  {
   "cell_type": "markdown",
   "id": "f4d0f753",
   "metadata": {
    "id": "ZspT1GSkjG6d",
    "papermill": {
     "duration": 0.016184,
     "end_time": "2025-04-01T17:18:48.059817",
     "exception": false,
     "start_time": "2025-04-01T17:18:48.043633",
     "status": "completed"
    },
    "tags": []
   },
   "source": [
    "This response contains multiple parts, including an opening and closing text part that represent regular responses, an `executable_code` part that represents generated code and a `code_execution_result` part that represents the results from running the generated code.\n",
    "\n",
    "You can explore them individually."
   ]
  },
  {
   "cell_type": "code",
   "execution_count": 32,
   "id": "acb26931",
   "metadata": {
    "execution": {
     "iopub.execute_input": "2025-04-01T17:18:48.094371Z",
     "iopub.status.busy": "2025-04-01T17:18:48.093959Z",
     "iopub.status.idle": "2025-04-01T17:18:48.107091Z",
     "shell.execute_reply": "2025-04-01T17:18:48.106098Z"
    },
    "papermill": {
     "duration": 0.033125,
     "end_time": "2025-04-01T17:18:48.109078",
     "exception": false,
     "start_time": "2025-04-01T17:18:48.075953",
     "status": "completed"
    },
    "tags": []
   },
   "outputs": [
    {
     "data": {
      "text/markdown": [
       "Okay, I can do that. First, I'll generate the first 14 odd prime numbers. Remember that a prime number is a number greater than 1 that has only two divisors: 1 and itself. Also, the only even prime number is 2. Therefore, I am looking for the first 14 prime numbers after 2.\n",
       "\n",
       "Here are the first 14 odd prime numbers:\n",
       "\n",
       "3, 5, 7, 11, 13, 17, 19, 23, 29, 31, 37, 41, 43, 47\n",
       "\n",
       "Now, I will calculate their sum using python:\n",
       "\n"
      ],
      "text/plain": [
       "<IPython.core.display.Markdown object>"
      ]
     },
     "metadata": {},
     "output_type": "display_data"
    },
    {
     "data": {
      "text/markdown": [
       "```python\n",
       "numbers = [3, 5, 7, 11, 13, 17, 19, 23, 29, 31, 37, 41, 43, 47]\n",
       "sum_of_numbers = sum(numbers)\n",
       "print(f'{sum_of_numbers=}')\n",
       "\n",
       "```"
      ],
      "text/plain": [
       "<IPython.core.display.Markdown object>"
      ]
     },
     "metadata": {},
     "output_type": "display_data"
    },
    {
     "data": {
      "text/markdown": [
       "```\n",
       "sum_of_numbers=326\n",
       "\n",
       "```"
      ],
      "text/plain": [
       "<IPython.core.display.Markdown object>"
      ]
     },
     "metadata": {},
     "output_type": "display_data"
    },
    {
     "data": {
      "text/markdown": [
       "The sum of the first 14 odd prime numbers is 326.\n"
      ],
      "text/plain": [
       "<IPython.core.display.Markdown object>"
      ]
     },
     "metadata": {},
     "output_type": "display_data"
    }
   ],
   "source": [
    "for part in response.candidates[0].content.parts:\n",
    "    if part.text:\n",
    "        display(Markdown(part.text))\n",
    "    elif part.executable_code:\n",
    "        display(Markdown(f'```python\\n{part.executable_code.code}\\n```'))\n",
    "    elif part.code_execution_result:\n",
    "        if part.code_execution_result.outcome != 'OUTCOME_OK':\n",
    "            display(Markdown(f'## Status {part.code_execution_result.outcome}'))\n",
    "\n",
    "        display(Markdown(f'```\\n{part.code_execution_result.output}\\n```'))"
   ]
  },
  {
   "cell_type": "markdown",
   "id": "1367bc54",
   "metadata": {
    "id": "1gUX8QzCj4d5",
    "papermill": {
     "duration": 0.016522,
     "end_time": "2025-04-01T17:18:48.142472",
     "exception": false,
     "start_time": "2025-04-01T17:18:48.125950",
     "status": "completed"
    },
    "tags": []
   },
   "source": [
    "### Explaining code\n",
    "\n",
    "The Gemini family of models can explain code to you too. In this example, you pass a [bash script](https://github.com/magicmonty/bash-git-prompt) and ask some questions.\n",
    "\n",
    "<table align=left>\n",
    "  <td>\n",
    "    <a target=\"_blank\" href=\"https://aistudio.google.com/prompts/1N7LGzWzCYieyOf_7bAG4plrmkpDNmUyb\"><img src=\"https://ai.google.dev/site-assets/images/marketing/home/icon-ais.png\" style=\"height: 24px\" height=24/> Open in AI Studio</a>\n",
    "  </td>\n",
    "</table>"
   ]
  },
  {
   "cell_type": "code",
   "execution_count": 33,
   "id": "1f960d1b",
   "metadata": {
    "execution": {
     "iopub.execute_input": "2025-04-01T17:18:48.178979Z",
     "iopub.status.busy": "2025-04-01T17:18:48.177946Z",
     "iopub.status.idle": "2025-04-01T17:18:50.113946Z",
     "shell.execute_reply": "2025-04-01T17:18:50.112827Z"
    },
    "id": "7_jPMMoxkIEb",
    "papermill": {
     "duration": 1.957472,
     "end_time": "2025-04-01T17:18:50.116704",
     "exception": false,
     "start_time": "2025-04-01T17:18:48.159232",
     "status": "completed"
    },
    "tags": []
   },
   "outputs": [
    {
     "data": {
      "text/markdown": [
       "This is a Bash script designed to enhance your terminal prompt with Git-related information.  It provides visual cues about the current Git repository's status, such as the branch name, whether there are uncommitted changes, the status of tracked files and the state of the upstream repository.\n",
       "\n",
       "Here's a breakdown:\n",
       "\n",
       "*   **What it is:** A shell script that, when sourced, modifies your terminal prompt (the line where you type commands) to include information about the Git repository you're currently in. It uses colors and symbols to represent different states of the repository (e.g., branch, modified files, staged changes, etc.).\n",
       "\n",
       "*   **Why you would use it:** To quickly and easily see the status of your Git repository directly in your terminal prompt without having to run `git status` every time.  This is extremely useful for developers who work with Git repositories frequently, as it provides at-a-glance information about the state of their working directory.\n",
       "\n",
       "In essence, it's a visual aid that makes working with Git in the command line more efficient.\n"
      ],
      "text/plain": [
       "<IPython.core.display.Markdown object>"
      ]
     },
     "execution_count": 33,
     "metadata": {},
     "output_type": "execute_result"
    }
   ],
   "source": [
    "file_contents = !curl https://raw.githubusercontent.com/magicmonty/bash-git-prompt/refs/heads/master/gitprompt.sh\n",
    "\n",
    "explain_prompt = f\"\"\"\n",
    "Please explain what this file does at a very high level. What is it, and why would I use it?\n",
    "\n",
    "```\n",
    "{file_contents}\n",
    "```\n",
    "\"\"\"\n",
    "\n",
    "response = client.models.generate_content(\n",
    "    model='gemini-2.0-flash',\n",
    "    contents=explain_prompt)\n",
    "\n",
    "Markdown(response.text)"
   ]
  },
  {
   "cell_type": "markdown",
   "id": "ed940307",
   "metadata": {
    "id": "2a8266d97ce5",
    "papermill": {
     "duration": 0.016561,
     "end_time": "2025-04-01T17:18:50.152878",
     "exception": false,
     "start_time": "2025-04-01T17:18:50.136317",
     "status": "completed"
    },
    "tags": []
   },
   "source": [
    "## Learn more\n",
    "\n",
    "To learn more about prompting in depth:\n",
    "\n",
    "* Check out the whitepaper issued with today's content,\n",
    "* Try out the apps listed at the top of this notebook ([TextFX](https://textfx.withgoogle.com/), [SQL Talk](https://sql-talk-r5gdynozbq-uc.a.run.app/) and [NotebookLM](https://notebooklm.google/)),\n",
    "* Read the [Introduction to Prompting](https://ai.google.dev/gemini-api/docs/prompting-intro) from the Gemini API docs,\n",
    "* Explore the Gemini API's [prompt gallery](https://ai.google.dev/gemini-api/prompts) and try them out in AI Studio,\n",
    "* Check out the Gemini API cookbook for [inspirational examples](https://github.com/google-gemini/cookbook/blob/main/examples/) and [educational quickstarts](https://github.com/google-gemini/cookbook/blob/main/quickstarts/).\n",
    "\n",
    "Be sure to check out the codelabs on day 3 too, where you will explore some more advanced prompting with code execution.\n",
    "\n",
    "And please share anything exciting you have tried in the Discord!\n",
    "\n",
    "*- [Mark McD](https://linktr.ee/markmcd)*"
   ]
  }
 ],
 "metadata": {
  "colab": {
   "name": "day-1-prompting.ipynb",
   "toc_visible": true
  },
  "kaggle": {
   "accelerator": "none",
   "dataSources": [],
   "dockerImageVersionId": 30786,
   "isGpuEnabled": false,
   "isInternetEnabled": true,
   "language": "python",
   "sourceType": "notebook"
  },
  "kernelspec": {
   "display_name": "Python 3",
   "language": "python",
   "name": "python3"
  },
  "language_info": {
   "codemirror_mode": {
    "name": "ipython",
    "version": 3
   },
   "file_extension": ".py",
   "mimetype": "text/x-python",
   "name": "python",
   "nbconvert_exporter": "python",
   "pygments_lexer": "ipython3",
   "version": "3.10.14"
  },
  "papermill": {
   "default_parameters": {},
   "duration": 63.18838,
   "end_time": "2025-04-01T17:18:50.894305",
   "environment_variables": {},
   "exception": null,
   "input_path": "__notebook__.ipynb",
   "output_path": "__notebook__.ipynb",
   "parameters": {},
   "start_time": "2025-04-01T17:17:47.705925",
   "version": "2.6.0"
  }
 },
 "nbformat": 4,
 "nbformat_minor": 5
}
